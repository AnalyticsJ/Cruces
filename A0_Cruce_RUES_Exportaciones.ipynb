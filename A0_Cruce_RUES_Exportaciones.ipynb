{
  "nbformat": 4,
  "nbformat_minor": 0,
  "metadata": {
    "colab": {
      "name": "A0. Cruce RUES - Exportaciones.ipynb",
      "provenance": [],
      "collapsed_sections": [
        "NaPWganAwmam",
        "ZYNBnF49vANX"
      ]
    },
    "kernelspec": {
      "name": "python3",
      "display_name": "Python 3"
    },
    "language_info": {
      "name": "python"
    }
  },
  "cells": [
    {
      "cell_type": "markdown",
      "metadata": {
        "id": "dtjSg_Z2l8K0"
      },
      "source": [
        "Author: Enrique Forero\n",
        "\n",
        "Date: 2021-09-15"
      ]
    },
    {
      "cell_type": "markdown",
      "metadata": {
        "id": "-8xGEkeRsUoC"
      },
      "source": [
        "# ✅ Save and load python interpreter sessions"
      ]
    },
    {
      "cell_type": "code",
      "metadata": {
        "id": "emJxlyq8seTa"
      },
      "source": [
        "# https://stackoverflow.com/questions/34342155/how-to-pickle-or-store-jupyter-ipython-notebook-session-for-later\n",
        "pip install dill"
      ],
      "execution_count": null,
      "outputs": []
    },
    {
      "cell_type": "code",
      "metadata": {
        "id": "ZdZSBLLmsg2U"
      },
      "source": [
        "import dill\n",
        "# Save a Notebook Session\n",
        "dill.dump_session('notebook_env.db')"
      ],
      "execution_count": null,
      "outputs": []
    },
    {
      "cell_type": "code",
      "metadata": {
        "id": "qdDd2NEHstXd"
      },
      "source": [
        "import dill\n",
        "# Restore a NoteBook Session\n",
        "dill.load_session('notebook_env.db')"
      ],
      "execution_count": null,
      "outputs": []
    },
    {
      "cell_type": "markdown",
      "metadata": {
        "id": "UL9i6M3QdRPz"
      },
      "source": [
        "# ✅ Setting up the environment"
      ]
    },
    {
      "cell_type": "code",
      "metadata": {
        "colab": {
          "base_uri": "https://localhost:8080/"
        },
        "id": "VCAnfjyNg8m5",
        "outputId": "ace9fd96-59ad-4a30-cbbe-c6f575f426f5"
      },
      "source": [
        "from google.colab import drive\n",
        "drive.mount('/content/drive')"
      ],
      "execution_count": null,
      "outputs": [
        {
          "output_type": "stream",
          "name": "stdout",
          "text": [
            "Drive already mounted at /content/drive; to attempt to forcibly remount, call drive.mount(\"/content/drive\", force_remount=True).\n"
          ]
        }
      ]
    },
    {
      "cell_type": "code",
      "metadata": {
        "colab": {
          "base_uri": "https://localhost:8080/"
        },
        "id": "BoKPPFL3OWdS",
        "outputId": "a7f31e22-0327-4e11-b5b1-a6a5e419052b"
      },
      "source": [
        "# Indicando la ruta de la carpeta donde están los archivos. \n",
        "%cd '/content/drive/MyDrive/ProColombia/RUES'\n",
        "%ls "
      ],
      "execution_count": null,
      "outputs": [
        {
          "output_type": "stream",
          "name": "stdout",
          "text": [
            "/content/drive/MyDrive/ProColombia/RUES\n",
            " 2021-09-15_EXT-DBA-357-RUES-TICKET-8352.zip\n",
            "'2021-09-24 NIT y Empresas.xlsx'\n",
            "'ADJUST DATA TYPES RUES.xlsx'\n",
            "'Cruce RUES - Exportaciones.ipynb'\n",
            " data_CSV.csv\n",
            " df_dtypes.xlsx\n"
          ]
        }
      ]
    },
    {
      "cell_type": "markdown",
      "metadata": {
        "id": "NaPWganAwmam"
      },
      "source": [
        "# ✅ Load data"
      ]
    },
    {
      "cell_type": "code",
      "metadata": {
        "id": "S92mqI72wu4e"
      },
      "source": [
        "import pandas as pd\n",
        "import numpy as np"
      ],
      "execution_count": null,
      "outputs": []
    },
    {
      "cell_type": "code",
      "metadata": {
        "colab": {
          "base_uri": "https://localhost:8080/"
        },
        "id": "ObRRyvoxTW83",
        "outputId": "e3f1c8a6-746d-473c-faf6-062d3afbcba4"
      },
      "source": [
        "%%time\n",
        "df_nits = pd.read_excel(\"2021-09-24 NIT y Empresas.xlsx\")"
      ],
      "execution_count": null,
      "outputs": [
        {
          "output_type": "stream",
          "name": "stdout",
          "text": [
            "CPU times: user 1.67 s, sys: 20.8 ms, total: 1.69 s\n",
            "Wall time: 1.75 s\n"
          ]
        }
      ]
    },
    {
      "cell_type": "code",
      "metadata": {
        "colab": {
          "base_uri": "https://localhost:8080/"
        },
        "id": "mljN56dmKJ3R",
        "outputId": "1394b7c9-305d-4c37-bde3-db28854d91a2"
      },
      "source": [
        "df_nits.shape"
      ],
      "execution_count": null,
      "outputs": [
        {
          "output_type": "execute_result",
          "data": {
            "text/plain": [
              "(35893, 6)"
            ]
          },
          "metadata": {},
          "execution_count": 93
        }
      ]
    },
    {
      "cell_type": "code",
      "metadata": {
        "colab": {
          "base_uri": "https://localhost:8080/",
          "height": 206
        },
        "id": "J9DrpQrTTqg0",
        "outputId": "94b67ef5-7c0d-410c-e816-be2921d2bf66"
      },
      "source": [
        "df_nits.head()"
      ],
      "execution_count": null,
      "outputs": [
        {
          "output_type": "execute_result",
          "data": {
            "text/html": [
              "<div>\n",
              "<style scoped>\n",
              "    .dataframe tbody tr th:only-of-type {\n",
              "        vertical-align: middle;\n",
              "    }\n",
              "\n",
              "    .dataframe tbody tr th {\n",
              "        vertical-align: top;\n",
              "    }\n",
              "\n",
              "    .dataframe thead th {\n",
              "        text-align: right;\n",
              "    }\n",
              "</style>\n",
              "<table border=\"1\" class=\"dataframe\">\n",
              "  <thead>\n",
              "    <tr style=\"text-align: right;\">\n",
              "      <th></th>\n",
              "      <th>NIT</th>\n",
              "      <th>RAZON_SOCIAL</th>\n",
              "      <th>CONTEO_A</th>\n",
              "    </tr>\n",
              "  </thead>\n",
              "  <tbody>\n",
              "    <tr>\n",
              "      <th>0</th>\n",
              "      <td>01D100827</td>\n",
              "      <td>STEFAN FLORICA STEFANESCU                     ...</td>\n",
              "      <td>1</td>\n",
              "    </tr>\n",
              "    <tr>\n",
              "      <th>1</th>\n",
              "      <td>05AE80266</td>\n",
              "      <td>DE FRANCONY  GERARD GILBERT                   ...</td>\n",
              "      <td>1</td>\n",
              "    </tr>\n",
              "    <tr>\n",
              "      <th>2</th>\n",
              "      <td>06AL24912</td>\n",
              "      <td>BOUDET  MADELEINE MATHILDE ANDREE             ...</td>\n",
              "      <td>1</td>\n",
              "    </tr>\n",
              "    <tr>\n",
              "      <th>3</th>\n",
              "      <td>06BA16405</td>\n",
              "      <td>FEIGELSON JOHANSSON ERIC WILLIAM              ...</td>\n",
              "      <td>1</td>\n",
              "    </tr>\n",
              "    <tr>\n",
              "      <th>4</th>\n",
              "      <td>06PC00615</td>\n",
              "      <td>MACIA DURAN VANESSA                           ...</td>\n",
              "      <td>1</td>\n",
              "    </tr>\n",
              "  </tbody>\n",
              "</table>\n",
              "</div>"
            ],
            "text/plain": [
              "         NIT                                       RAZON_SOCIAL  CONTEO_A\n",
              "0  01D100827  STEFAN FLORICA STEFANESCU                     ...         1\n",
              "1  05AE80266  DE FRANCONY  GERARD GILBERT                   ...         1\n",
              "2  06AL24912  BOUDET  MADELEINE MATHILDE ANDREE             ...         1\n",
              "3  06BA16405  FEIGELSON JOHANSSON ERIC WILLIAM              ...         1\n",
              "4  06PC00615  MACIA DURAN VANESSA                           ...         1"
            ]
          },
          "metadata": {},
          "execution_count": 5
        }
      ]
    },
    {
      "cell_type": "code",
      "metadata": {
        "colab": {
          "base_uri": "https://localhost:8080/"
        },
        "id": "h2HtyU11T5Zp",
        "outputId": "21845263-fe5a-48ac-b092-ca68650b0170"
      },
      "source": [
        "df_nits.dtypes"
      ],
      "execution_count": null,
      "outputs": [
        {
          "output_type": "execute_result",
          "data": {
            "text/plain": [
              "NIT             object\n",
              "RAZON_SOCIAL    object\n",
              "CONTEO_A         int64\n",
              "dtype: object"
            ]
          },
          "metadata": {},
          "execution_count": 6
        }
      ]
    },
    {
      "cell_type": "code",
      "metadata": {
        "colab": {
          "base_uri": "https://localhost:8080/"
        },
        "id": "TeOUX8Yqv4O5",
        "outputId": "62c1023d-5e6b-4088-f606-53b1fd21fd6f"
      },
      "source": [
        "%%time \n",
        "# LLega a ocupar 8GB mientras procesa la información. Al final queda de 4.31GB. \n",
        "df = pd.read_csv('2021-09-15_EXT-DBA-357-RUES-TICKET-8352.zip', encoding='latin-1', sep=\"|\", error_bad_lines=False, low_memory=False)"
      ],
      "execution_count": null,
      "outputs": [
        {
          "output_type": "stream",
          "name": "stdout",
          "text": [
            "CPU times: user 1min 38s, sys: 49.9 s, total: 2min 28s\n",
            "Wall time: 2min 28s\n"
          ]
        }
      ]
    },
    {
      "cell_type": "code",
      "metadata": {
        "colab": {
          "base_uri": "https://localhost:8080/",
          "height": 469
        },
        "id": "28HuGrEdwpgG",
        "outputId": "3e65c79d-3987-4572-db68-ec249097a5fd"
      },
      "source": [
        "df.head()"
      ],
      "execution_count": null,
      "outputs": [
        {
          "output_type": "execute_result",
          "data": {
            "text/html": [
              "<div>\n",
              "<style scoped>\n",
              "    .dataframe tbody tr th:only-of-type {\n",
              "        vertical-align: middle;\n",
              "    }\n",
              "\n",
              "    .dataframe tbody tr th {\n",
              "        vertical-align: top;\n",
              "    }\n",
              "\n",
              "    .dataframe thead th {\n",
              "        text-align: right;\n",
              "    }\n",
              "</style>\n",
              "<table border=\"1\" class=\"dataframe\">\n",
              "  <thead>\n",
              "    <tr style=\"text-align: right;\">\n",
              "      <th></th>\n",
              "      <th>Cód Cámara</th>\n",
              "      <th>Matricula</th>\n",
              "      <th>Razón Social</th>\n",
              "      <th>Clase Identificación</th>\n",
              "      <th>Numero de Identificación</th>\n",
              "      <th>Digito de Verificación</th>\n",
              "      <th>Municipio Comercial</th>\n",
              "      <th>Dirección Comercial</th>\n",
              "      <th>Tel. Comercial 1</th>\n",
              "      <th>Tel. Comercial 2</th>\n",
              "      <th>Tel. Comercial 3</th>\n",
              "      <th>Correo Electrónico Comercial</th>\n",
              "      <th>Municipio Fiscal</th>\n",
              "      <th>Dirección Fiscal</th>\n",
              "      <th>Tel. Fiscal 1</th>\n",
              "      <th>Tel. Fiscal 2</th>\n",
              "      <th>Tel. Fiscal 3</th>\n",
              "      <th>Correo Electrónico Fiscal</th>\n",
              "      <th>Ultimo Año Renovado</th>\n",
              "      <th>Fecha Matricula</th>\n",
              "      <th>Fecha Renovación</th>\n",
              "      <th>Estado</th>\n",
              "      <th>Organización Jurídica</th>\n",
              "      <th>Categoría Matricula</th>\n",
              "      <th>CIIU Principal</th>\n",
              "      <th>CIIU Secundario</th>\n",
              "      <th>ciiu 3</th>\n",
              "      <th>ciiu 4</th>\n",
              "      <th>Empleados</th>\n",
              "      <th>Num Identificacion Representante Legal</th>\n",
              "      <th>Representante Legal</th>\n",
              "      <th>Fecha Actualizacion RUES</th>\n",
              "    </tr>\n",
              "  </thead>\n",
              "  <tbody>\n",
              "    <tr>\n",
              "      <th>0</th>\n",
              "      <td>1.0</td>\n",
              "      <td>1</td>\n",
              "      <td>ARIAS MARIN SANTIAGO</td>\n",
              "      <td>CEDULA DE CIUDADANIA</td>\n",
              "      <td>1239941</td>\n",
              "      <td>NaN</td>\n",
              "      <td>63001</td>\n",
              "      <td>CR. 24 # 30-58</td>\n",
              "      <td>NaN</td>\n",
              "      <td>NaN</td>\n",
              "      <td>NaN</td>\n",
              "      <td>NaN</td>\n",
              "      <td>63001</td>\n",
              "      <td>CR. 24 # 30-58</td>\n",
              "      <td>NaN</td>\n",
              "      <td>NaN</td>\n",
              "      <td>NaN</td>\n",
              "      <td>NaN</td>\n",
              "      <td>1972</td>\n",
              "      <td>19720104</td>\n",
              "      <td>19720104</td>\n",
              "      <td>CANCELADA</td>\n",
              "      <td>PERSONA NATURAL</td>\n",
              "      <td>PERSONA NATURAL</td>\n",
              "      <td>9999</td>\n",
              "      <td>NaN</td>\n",
              "      <td>NaN</td>\n",
              "      <td>NaN</td>\n",
              "      <td>1.0</td>\n",
              "      <td>NaN</td>\n",
              "      <td>NaN</td>\n",
              "      <td>20210213.0</td>\n",
              "    </tr>\n",
              "    <tr>\n",
              "      <th>1</th>\n",
              "      <td>1.0</td>\n",
              "      <td>3</td>\n",
              "      <td>RIVERA OCHOA JOSE</td>\n",
              "      <td>CEDULA DE CIUDADANIA</td>\n",
              "      <td>1348019</td>\n",
              "      <td>NaN</td>\n",
              "      <td>63001</td>\n",
              "      <td>CARRERA 18 #30-16</td>\n",
              "      <td>NaN</td>\n",
              "      <td>NaN</td>\n",
              "      <td>NaN</td>\n",
              "      <td>NaN</td>\n",
              "      <td>63001</td>\n",
              "      <td>CARRERA 18 #30-16</td>\n",
              "      <td>NaN</td>\n",
              "      <td>NaN</td>\n",
              "      <td>NaN</td>\n",
              "      <td>NaN</td>\n",
              "      <td>0</td>\n",
              "      <td>19720104</td>\n",
              "      <td></td>\n",
              "      <td>CANCELADA</td>\n",
              "      <td>PERSONA NATURAL</td>\n",
              "      <td>PERSONA NATURAL</td>\n",
              "      <td>9999</td>\n",
              "      <td>NaN</td>\n",
              "      <td>NaN</td>\n",
              "      <td>NaN</td>\n",
              "      <td>0.0</td>\n",
              "      <td>NaN</td>\n",
              "      <td>NaN</td>\n",
              "      <td>20201113.0</td>\n",
              "    </tr>\n",
              "    <tr>\n",
              "      <th>2</th>\n",
              "      <td>1.0</td>\n",
              "      <td>6</td>\n",
              "      <td>MARIN HOYOS JORGE</td>\n",
              "      <td>CEDULA DE CIUDADANIA</td>\n",
              "      <td>1275176</td>\n",
              "      <td>0</td>\n",
              "      <td>63001</td>\n",
              "      <td>CARRERA 20 #14-18</td>\n",
              "      <td>NaN</td>\n",
              "      <td>NaN</td>\n",
              "      <td>NaN</td>\n",
              "      <td>NaN</td>\n",
              "      <td>63001</td>\n",
              "      <td>CARRERA 20 #14-18</td>\n",
              "      <td>NaN</td>\n",
              "      <td>NaN</td>\n",
              "      <td>NaN</td>\n",
              "      <td>NaN</td>\n",
              "      <td>1980</td>\n",
              "      <td>19720104</td>\n",
              "      <td>19800108</td>\n",
              "      <td>CANCELADA</td>\n",
              "      <td>PERSONA NATURAL</td>\n",
              "      <td>PERSONA NATURAL</td>\n",
              "      <td>9999</td>\n",
              "      <td>NaN</td>\n",
              "      <td>NaN</td>\n",
              "      <td>NaN</td>\n",
              "      <td>NaN</td>\n",
              "      <td>NaN</td>\n",
              "      <td>NaN</td>\n",
              "      <td>NaN</td>\n",
              "    </tr>\n",
              "    <tr>\n",
              "      <th>3</th>\n",
              "      <td>1.0</td>\n",
              "      <td>7</td>\n",
              "      <td>ORTIZ MORALES BERNARDO ANTONIO</td>\n",
              "      <td>CEDULA DE CIUDADANIA</td>\n",
              "      <td>1238721</td>\n",
              "      <td>0</td>\n",
              "      <td>63001</td>\n",
              "      <td>CALLE 31 # 19-06</td>\n",
              "      <td>NaN</td>\n",
              "      <td>NaN</td>\n",
              "      <td>NaN</td>\n",
              "      <td>NaN</td>\n",
              "      <td>63001</td>\n",
              "      <td>CALLE 31 # 19-06</td>\n",
              "      <td>NaN</td>\n",
              "      <td>NaN</td>\n",
              "      <td>NaN</td>\n",
              "      <td>NaN</td>\n",
              "      <td>1994</td>\n",
              "      <td>19720104</td>\n",
              "      <td>19940131</td>\n",
              "      <td>CANCELADA</td>\n",
              "      <td>PERSONA NATURAL</td>\n",
              "      <td>PERSONA NATURAL</td>\n",
              "      <td>9999</td>\n",
              "      <td>NaN</td>\n",
              "      <td>NaN</td>\n",
              "      <td>NaN</td>\n",
              "      <td>NaN</td>\n",
              "      <td>NaN</td>\n",
              "      <td>NaN</td>\n",
              "      <td>NaN</td>\n",
              "    </tr>\n",
              "    <tr>\n",
              "      <th>4</th>\n",
              "      <td>1.0</td>\n",
              "      <td>10</td>\n",
              "      <td>DUQUE GALVIS EFRAIM</td>\n",
              "      <td>CEDULA DE CIUDADANIA</td>\n",
              "      <td>1268028</td>\n",
              "      <td>NaN</td>\n",
              "      <td>63130</td>\n",
              "      <td>CALLE 38 # 26-16</td>\n",
              "      <td>432628</td>\n",
              "      <td>NaN</td>\n",
              "      <td>NaN</td>\n",
              "      <td>NaN</td>\n",
              "      <td>63130</td>\n",
              "      <td>CALLE 38 # 26-16</td>\n",
              "      <td>NaN</td>\n",
              "      <td>NaN</td>\n",
              "      <td>NaN</td>\n",
              "      <td>NaN</td>\n",
              "      <td>0</td>\n",
              "      <td>19720104</td>\n",
              "      <td></td>\n",
              "      <td>CANCELADA</td>\n",
              "      <td>PERSONA NATURAL</td>\n",
              "      <td>PERSONA NATURAL</td>\n",
              "      <td>9999</td>\n",
              "      <td>NaN</td>\n",
              "      <td>NaN</td>\n",
              "      <td>NaN</td>\n",
              "      <td>0.0</td>\n",
              "      <td>NaN</td>\n",
              "      <td>NaN</td>\n",
              "      <td>20201112.0</td>\n",
              "    </tr>\n",
              "  </tbody>\n",
              "</table>\n",
              "</div>"
            ],
            "text/plain": [
              "   Cód Cámara  Matricula  ... Representante Legal Fecha Actualizacion RUES\n",
              "0         1.0          1  ...                 NaN               20210213.0\n",
              "1         1.0          3  ...                 NaN               20201113.0\n",
              "2         1.0          6  ...                 NaN                      NaN\n",
              "3         1.0          7  ...                 NaN                      NaN\n",
              "4         1.0         10  ...                 NaN               20201112.0\n",
              "\n",
              "[5 rows x 32 columns]"
            ]
          },
          "metadata": {},
          "execution_count": 8
        }
      ]
    },
    {
      "cell_type": "code",
      "metadata": {
        "colab": {
          "base_uri": "https://localhost:8080/"
        },
        "id": "cY3-d8cx3-5k",
        "outputId": "ded88e22-b55f-4bd5-ffb5-fa2f58e6856e"
      },
      "source": [
        "df.shape"
      ],
      "execution_count": null,
      "outputs": [
        {
          "output_type": "execute_result",
          "data": {
            "text/plain": [
              "(7310903, 32)"
            ]
          },
          "metadata": {},
          "execution_count": 9
        }
      ]
    },
    {
      "cell_type": "code",
      "metadata": {
        "colab": {
          "base_uri": "https://localhost:8080/"
        },
        "id": "HawBF5KI4Bg7",
        "outputId": "c4793906-5e38-4022-9dbf-ebd55cf4a12b"
      },
      "source": [
        "df.dtypes"
      ],
      "execution_count": null,
      "outputs": [
        {
          "output_type": "execute_result",
          "data": {
            "text/plain": [
              "Cód Cámara                                float64\n",
              "Matricula                                   int64\n",
              "Razón Social                               object\n",
              "Clase Identificación                       object\n",
              "Numero de Identificación                   object\n",
              "Digito de Verificación                     object\n",
              "Municipio Comercial                        object\n",
              "Dirección Comercial                        object\n",
              "Tel. Comercial 1                           object\n",
              "Tel. Comercial 2                           object\n",
              "Tel. Comercial 3                           object\n",
              "Correo Electrónico Comercial               object\n",
              "Municipio Fiscal                           object\n",
              "Dirección Fiscal                           object\n",
              "Tel. Fiscal 1                              object\n",
              "Tel. Fiscal 2                              object\n",
              "Tel. Fiscal 3                              object\n",
              "Correo Electrónico Fiscal                  object\n",
              "Ultimo Año Renovado                        object\n",
              "Fecha Matricula                            object\n",
              "Fecha Renovación                           object\n",
              "Estado                                     object\n",
              "Organización Jurídica                      object\n",
              "Categoría Matricula                        object\n",
              "CIIU Principal                             object\n",
              "CIIU Secundario                            object\n",
              "ciiu 3                                     object\n",
              "ciiu 4                                     object\n",
              "Empleados                                 float64\n",
              "Num Identificacion Representante Legal     object\n",
              "Representante Legal                        object\n",
              "Fecha Actualizacion RUES                  float64\n",
              "dtype: object"
            ]
          },
          "metadata": {},
          "execution_count": 10
        }
      ]
    },
    {
      "cell_type": "markdown",
      "metadata": {
        "id": "ZYNBnF49vANX"
      },
      "source": [
        "# ✅ Estandarizar NIT de base exportaciones"
      ]
    },
    {
      "cell_type": "code",
      "metadata": {
        "colab": {
          "base_uri": "https://localhost:8080/"
        },
        "id": "KLbbEZSRw_RC",
        "outputId": "38b3ad5e-a87d-4d76-c1fc-9b979da61828"
      },
      "source": [
        "df_nits.columns"
      ],
      "execution_count": null,
      "outputs": [
        {
          "output_type": "execute_result",
          "data": {
            "text/plain": [
              "Index(['NIT', 'RAZON_SOCIAL', 'CONTEO_A'], dtype='object')"
            ]
          },
          "metadata": {},
          "execution_count": 11
        }
      ]
    },
    {
      "cell_type": "code",
      "metadata": {
        "id": "79LvMes7Pu6q"
      },
      "source": [
        "# Utilizamos la función lamba que me permite iterar en cada fila. A cada valor de las celdas, lo nombro como \"x\"\n",
        "# Como son números, primero debo convertirlos en texto utilizando la función srt(), se hace sobre la variable \"x\" \n",
        "df_nits['Len_nit'] = df_nits['NIT'].apply(lambda x: len(str(x)))"
      ],
      "execution_count": null,
      "outputs": []
    },
    {
      "cell_type": "code",
      "metadata": {
        "colab": {
          "base_uri": "https://localhost:8080/"
        },
        "id": "6JZGRGPzP8pC",
        "outputId": "730b7e8e-4295-403d-a9f3-649feda3f659"
      },
      "source": [
        "# Verifico la cantidad de dígitos en cada posición. Todas deberían ser 10. De lo contrario, debo hacer ajustes.\n",
        "df_nits['Len_nit'].unique()"
      ],
      "execution_count": null,
      "outputs": [
        {
          "output_type": "execute_result",
          "data": {
            "text/plain": [
              "array([ 9, 11,  8, 10,  7, 12,  6,  5,  3])"
            ]
          },
          "metadata": {},
          "execution_count": 13
        }
      ]
    },
    {
      "cell_type": "code",
      "metadata": {
        "colab": {
          "base_uri": "https://localhost:8080/"
        },
        "id": "qAna1ResWHaf",
        "outputId": "03b5e986-a6c7-4e21-f57d-776db99e0a68"
      },
      "source": [
        "%%time\n",
        "# Check how many companies are by Len_Posicion. \n",
        "df_temp = pd.pivot_table(df_nits, values = \"CONTEO_A\" , index = [\"Len_nit\"], aggfunc=np.sum).reset_index() \n",
        "print(df_temp.shape)"
      ],
      "execution_count": null,
      "outputs": [
        {
          "output_type": "stream",
          "name": "stdout",
          "text": [
            "(9, 2)\n",
            "CPU times: user 21.4 ms, sys: 7.76 ms, total: 29.2 ms\n",
            "Wall time: 82.5 ms\n"
          ]
        }
      ]
    },
    {
      "cell_type": "code",
      "metadata": {
        "colab": {
          "base_uri": "https://localhost:8080/"
        },
        "id": "17D-H5ITWhJO",
        "outputId": "c32cc2d0-a39f-426a-a42a-70b4966b3078"
      },
      "source": [
        "df_temp"
      ],
      "execution_count": null,
      "outputs": [
        {
          "output_type": "execute_result",
          "data": {
            "text/html": [
              "<div>\n",
              "<style scoped>\n",
              "    .dataframe tbody tr th:only-of-type {\n",
              "        vertical-align: middle;\n",
              "    }\n",
              "\n",
              "    .dataframe tbody tr th {\n",
              "        vertical-align: top;\n",
              "    }\n",
              "\n",
              "    .dataframe thead th {\n",
              "        text-align: right;\n",
              "    }\n",
              "</style>\n",
              "<table border=\"1\" class=\"dataframe\">\n",
              "  <thead>\n",
              "    <tr style=\"text-align: right;\">\n",
              "      <th></th>\n",
              "      <th>Len_nit</th>\n",
              "      <th>CONTEO_A</th>\n",
              "    </tr>\n",
              "  </thead>\n",
              "  <tbody>\n",
              "    <tr>\n",
              "      <th>0</th>\n",
              "      <td>3</td>\n",
              "      <td>2</td>\n",
              "    </tr>\n",
              "    <tr>\n",
              "      <th>1</th>\n",
              "      <td>5</td>\n",
              "      <td>2</td>\n",
              "    </tr>\n",
              "    <tr>\n",
              "      <th>2</th>\n",
              "      <td>6</td>\n",
              "      <td>19</td>\n",
              "    </tr>\n",
              "    <tr>\n",
              "      <th>3</th>\n",
              "      <td>7</td>\n",
              "      <td>2966</td>\n",
              "    </tr>\n",
              "    <tr>\n",
              "      <th>4</th>\n",
              "      <td>8</td>\n",
              "      <td>1120</td>\n",
              "    </tr>\n",
              "    <tr>\n",
              "      <th>5</th>\n",
              "      <td>9</td>\n",
              "      <td>8385</td>\n",
              "    </tr>\n",
              "    <tr>\n",
              "      <th>6</th>\n",
              "      <td>10</td>\n",
              "      <td>21711</td>\n",
              "    </tr>\n",
              "    <tr>\n",
              "      <th>7</th>\n",
              "      <td>11</td>\n",
              "      <td>1674</td>\n",
              "    </tr>\n",
              "    <tr>\n",
              "      <th>8</th>\n",
              "      <td>12</td>\n",
              "      <td>14</td>\n",
              "    </tr>\n",
              "  </tbody>\n",
              "</table>\n",
              "</div>"
            ],
            "text/plain": [
              "   Len_nit  CONTEO_A\n",
              "0        3         2\n",
              "1        5         2\n",
              "2        6        19\n",
              "3        7      2966\n",
              "4        8      1120\n",
              "5        9      8385\n",
              "6       10     21711\n",
              "7       11      1674\n",
              "8       12        14"
            ]
          },
          "metadata": {},
          "execution_count": 15
        }
      ]
    },
    {
      "cell_type": "code",
      "metadata": {
        "id": "qXO8XuFMQBdw"
      },
      "source": [
        "# Creo función que me permite incluir un cero al inicio de cada posición que es de sólo 9 dígitos. \n",
        "def funcion_ajuste( nit , Len_nit  ):\n",
        "    if ( Len_nit == 9 ) :      \n",
        "        nit = \"'0\" + str(nit)\n",
        "    elif ( Len_nit == 8 ) :  \n",
        "        nit = \"'00\" + str(nit)\n",
        "    elif ( Len_nit == 7 ) :  \n",
        "        nit = \"'000\" + str(nit)\n",
        "    else:\n",
        "        nit = \"'\" + str(nit)\n",
        "\n",
        "    return nit"
      ],
      "execution_count": null,
      "outputs": []
    },
    {
      "cell_type": "code",
      "metadata": {
        "colab": {
          "base_uri": "https://localhost:8080/"
        },
        "id": "gwJsIyoWQFMY",
        "outputId": "5bc17ee1-b1d6-4ddb-bdc2-e2509abe3204"
      },
      "source": [
        "%%time\n",
        "# Wall time: 1min 5s \n",
        "# Este proceso demanda varios recursos de memoria RAM. \n",
        "df_nits['NIT_Modificado'] = df_nits.apply( lambda x: funcion_ajuste( x['NIT'] , x['Len_nit']), axis=1 )"
      ],
      "execution_count": null,
      "outputs": [
        {
          "output_type": "stream",
          "name": "stdout",
          "text": [
            "CPU times: user 472 ms, sys: 5.91 ms, total: 478 ms\n",
            "Wall time: 498 ms\n"
          ]
        }
      ]
    },
    {
      "cell_type": "code",
      "metadata": {
        "colab": {
          "base_uri": "https://localhost:8080/"
        },
        "id": "Uyt340_Ma4jB",
        "outputId": "42079243-aa51-4eaf-82c8-bafa4822d81d"
      },
      "source": [
        "# Filtro los NITS que son de 11 dígitos para asegurarnos que quedaron de 11 al incluirle un cero\n",
        "df_nits[ (df_nits['Len_nit']==11) ][['NIT','Len_nit', 'NIT_Modificado']]"
      ],
      "execution_count": null,
      "outputs": [
        {
          "output_type": "execute_result",
          "data": {
            "text/html": [
              "<div>\n",
              "<style scoped>\n",
              "    .dataframe tbody tr th:only-of-type {\n",
              "        vertical-align: middle;\n",
              "    }\n",
              "\n",
              "    .dataframe tbody tr th {\n",
              "        vertical-align: top;\n",
              "    }\n",
              "\n",
              "    .dataframe thead th {\n",
              "        text-align: right;\n",
              "    }\n",
              "</style>\n",
              "<table border=\"1\" class=\"dataframe\">\n",
              "  <thead>\n",
              "    <tr style=\"text-align: right;\">\n",
              "      <th></th>\n",
              "      <th>NIT</th>\n",
              "      <th>Len_nit</th>\n",
              "      <th>NIT_Modificado</th>\n",
              "    </tr>\n",
              "  </thead>\n",
              "  <tbody>\n",
              "    <tr>\n",
              "      <th>23</th>\n",
              "      <td>10004103352</td>\n",
              "      <td>11</td>\n",
              "      <td>'10004103352</td>\n",
              "    </tr>\n",
              "    <tr>\n",
              "      <th>25</th>\n",
              "      <td>10009433541</td>\n",
              "      <td>11</td>\n",
              "      <td>'10009433541</td>\n",
              "    </tr>\n",
              "    <tr>\n",
              "      <th>26</th>\n",
              "      <td>10012695800</td>\n",
              "      <td>11</td>\n",
              "      <td>'10012695800</td>\n",
              "    </tr>\n",
              "    <tr>\n",
              "      <th>27</th>\n",
              "      <td>10012749416</td>\n",
              "      <td>11</td>\n",
              "      <td>'10012749416</td>\n",
              "    </tr>\n",
              "    <tr>\n",
              "      <th>28</th>\n",
              "      <td>10013114041</td>\n",
              "      <td>11</td>\n",
              "      <td>'10013114041</td>\n",
              "    </tr>\n",
              "    <tr>\n",
              "      <th>...</th>\n",
              "      <td>...</td>\n",
              "      <td>...</td>\n",
              "      <td>...</td>\n",
              "    </tr>\n",
              "    <tr>\n",
              "      <th>35466</th>\n",
              "      <td>SWE27001557</td>\n",
              "      <td>11</td>\n",
              "      <td>'SWE27001557</td>\n",
              "    </tr>\n",
              "    <tr>\n",
              "      <th>35467</th>\n",
              "      <td>SWE27103360</td>\n",
              "      <td>11</td>\n",
              "      <td>'SWE27103360</td>\n",
              "    </tr>\n",
              "    <tr>\n",
              "      <th>35468</th>\n",
              "      <td>SWE27105351</td>\n",
              "      <td>11</td>\n",
              "      <td>'SWE27105351</td>\n",
              "    </tr>\n",
              "    <tr>\n",
              "      <th>35469</th>\n",
              "      <td>SWE97174683</td>\n",
              "      <td>11</td>\n",
              "      <td>'SWE97174683</td>\n",
              "    </tr>\n",
              "    <tr>\n",
              "      <th>35516</th>\n",
              "      <td>US821612434</td>\n",
              "      <td>11</td>\n",
              "      <td>'US821612434</td>\n",
              "    </tr>\n",
              "  </tbody>\n",
              "</table>\n",
              "<p>1674 rows × 3 columns</p>\n",
              "</div>"
            ],
            "text/plain": [
              "               NIT  Len_nit NIT_Modificado\n",
              "23     10004103352       11   '10004103352\n",
              "25     10009433541       11   '10009433541\n",
              "26     10012695800       11   '10012695800\n",
              "27     10012749416       11   '10012749416\n",
              "28     10013114041       11   '10013114041\n",
              "...            ...      ...            ...\n",
              "35466  SWE27001557       11   'SWE27001557\n",
              "35467  SWE27103360       11   'SWE27103360\n",
              "35468  SWE27105351       11   'SWE27105351\n",
              "35469  SWE97174683       11   'SWE97174683\n",
              "35516  US821612434       11   'US821612434\n",
              "\n",
              "[1674 rows x 3 columns]"
            ]
          },
          "metadata": {},
          "execution_count": 18
        }
      ]
    },
    {
      "cell_type": "markdown",
      "metadata": {
        "id": "m9uCDg6RPpXu"
      },
      "source": [
        "## 🟠 Extraer los NITS a 10 dígitos"
      ]
    },
    {
      "cell_type": "code",
      "metadata": {
        "id": "Z3tUM0T2Qelw"
      },
      "source": [
        "# Extraigo los primeros 10 caracteres. De esta forma dejamos el código de verificación por fuera \n",
        "df_nits['NIT_10'] = df_nits['NIT_Modificado'].str[:10]"
      ],
      "execution_count": null,
      "outputs": []
    },
    {
      "cell_type": "code",
      "metadata": {
        "colab": {
          "base_uri": "https://localhost:8080/"
        },
        "id": "chHeEg5pQpqO",
        "outputId": "b240373b-a371-42b8-e150-faccbb34fd2f"
      },
      "source": [
        "# Verifico resultados. \n",
        "df_nits[ (df_nits['Len_nit']==11) ][['NIT','Len_nit', 'NIT_Modificado', 'NIT_10']]"
      ],
      "execution_count": null,
      "outputs": [
        {
          "output_type": "execute_result",
          "data": {
            "text/html": [
              "<div>\n",
              "<style scoped>\n",
              "    .dataframe tbody tr th:only-of-type {\n",
              "        vertical-align: middle;\n",
              "    }\n",
              "\n",
              "    .dataframe tbody tr th {\n",
              "        vertical-align: top;\n",
              "    }\n",
              "\n",
              "    .dataframe thead th {\n",
              "        text-align: right;\n",
              "    }\n",
              "</style>\n",
              "<table border=\"1\" class=\"dataframe\">\n",
              "  <thead>\n",
              "    <tr style=\"text-align: right;\">\n",
              "      <th></th>\n",
              "      <th>NIT</th>\n",
              "      <th>Len_nit</th>\n",
              "      <th>NIT_Modificado</th>\n",
              "      <th>NIT_10</th>\n",
              "    </tr>\n",
              "  </thead>\n",
              "  <tbody>\n",
              "    <tr>\n",
              "      <th>23</th>\n",
              "      <td>10004103352</td>\n",
              "      <td>11</td>\n",
              "      <td>'10004103352</td>\n",
              "      <td>'100041033</td>\n",
              "    </tr>\n",
              "    <tr>\n",
              "      <th>25</th>\n",
              "      <td>10009433541</td>\n",
              "      <td>11</td>\n",
              "      <td>'10009433541</td>\n",
              "      <td>'100094335</td>\n",
              "    </tr>\n",
              "    <tr>\n",
              "      <th>26</th>\n",
              "      <td>10012695800</td>\n",
              "      <td>11</td>\n",
              "      <td>'10012695800</td>\n",
              "      <td>'100126958</td>\n",
              "    </tr>\n",
              "    <tr>\n",
              "      <th>27</th>\n",
              "      <td>10012749416</td>\n",
              "      <td>11</td>\n",
              "      <td>'10012749416</td>\n",
              "      <td>'100127494</td>\n",
              "    </tr>\n",
              "    <tr>\n",
              "      <th>28</th>\n",
              "      <td>10013114041</td>\n",
              "      <td>11</td>\n",
              "      <td>'10013114041</td>\n",
              "      <td>'100131140</td>\n",
              "    </tr>\n",
              "    <tr>\n",
              "      <th>...</th>\n",
              "      <td>...</td>\n",
              "      <td>...</td>\n",
              "      <td>...</td>\n",
              "      <td>...</td>\n",
              "    </tr>\n",
              "    <tr>\n",
              "      <th>35466</th>\n",
              "      <td>SWE27001557</td>\n",
              "      <td>11</td>\n",
              "      <td>'SWE27001557</td>\n",
              "      <td>'SWE270015</td>\n",
              "    </tr>\n",
              "    <tr>\n",
              "      <th>35467</th>\n",
              "      <td>SWE27103360</td>\n",
              "      <td>11</td>\n",
              "      <td>'SWE27103360</td>\n",
              "      <td>'SWE271033</td>\n",
              "    </tr>\n",
              "    <tr>\n",
              "      <th>35468</th>\n",
              "      <td>SWE27105351</td>\n",
              "      <td>11</td>\n",
              "      <td>'SWE27105351</td>\n",
              "      <td>'SWE271053</td>\n",
              "    </tr>\n",
              "    <tr>\n",
              "      <th>35469</th>\n",
              "      <td>SWE97174683</td>\n",
              "      <td>11</td>\n",
              "      <td>'SWE97174683</td>\n",
              "      <td>'SWE971746</td>\n",
              "    </tr>\n",
              "    <tr>\n",
              "      <th>35516</th>\n",
              "      <td>US821612434</td>\n",
              "      <td>11</td>\n",
              "      <td>'US821612434</td>\n",
              "      <td>'US8216124</td>\n",
              "    </tr>\n",
              "  </tbody>\n",
              "</table>\n",
              "<p>1674 rows × 4 columns</p>\n",
              "</div>"
            ],
            "text/plain": [
              "               NIT  Len_nit NIT_Modificado      NIT_10\n",
              "23     10004103352       11   '10004103352  '100041033\n",
              "25     10009433541       11   '10009433541  '100094335\n",
              "26     10012695800       11   '10012695800  '100126958\n",
              "27     10012749416       11   '10012749416  '100127494\n",
              "28     10013114041       11   '10013114041  '100131140\n",
              "...            ...      ...            ...         ...\n",
              "35466  SWE27001557       11   'SWE27001557  'SWE270015\n",
              "35467  SWE27103360       11   'SWE27103360  'SWE271033\n",
              "35468  SWE27105351       11   'SWE27105351  'SWE271053\n",
              "35469  SWE97174683       11   'SWE97174683  'SWE971746\n",
              "35516  US821612434       11   'US821612434  'US8216124\n",
              "\n",
              "[1674 rows x 4 columns]"
            ]
          },
          "metadata": {},
          "execution_count": 20
        }
      ]
    },
    {
      "cell_type": "code",
      "metadata": {
        "colab": {
          "base_uri": "https://localhost:8080/"
        },
        "id": "cyBtiPFp2zRa",
        "outputId": "6a3ab629-7801-4127-ebbf-6bb330ed7871"
      },
      "source": [
        "# Verifico resultados. \n",
        "df_nits[ (df_nits['Len_nit']==9) ][['NIT','Len_nit', 'NIT_Modificado', 'NIT_10']]"
      ],
      "execution_count": null,
      "outputs": [
        {
          "output_type": "execute_result",
          "data": {
            "text/html": [
              "<div>\n",
              "<style scoped>\n",
              "    .dataframe tbody tr th:only-of-type {\n",
              "        vertical-align: middle;\n",
              "    }\n",
              "\n",
              "    .dataframe tbody tr th {\n",
              "        vertical-align: top;\n",
              "    }\n",
              "\n",
              "    .dataframe thead th {\n",
              "        text-align: right;\n",
              "    }\n",
              "</style>\n",
              "<table border=\"1\" class=\"dataframe\">\n",
              "  <thead>\n",
              "    <tr style=\"text-align: right;\">\n",
              "      <th></th>\n",
              "      <th>NIT</th>\n",
              "      <th>Len_nit</th>\n",
              "      <th>NIT_Modificado</th>\n",
              "      <th>NIT_10</th>\n",
              "    </tr>\n",
              "  </thead>\n",
              "  <tbody>\n",
              "    <tr>\n",
              "      <th>0</th>\n",
              "      <td>01D100827</td>\n",
              "      <td>9</td>\n",
              "      <td>'001D100827</td>\n",
              "      <td>'001D10082</td>\n",
              "    </tr>\n",
              "    <tr>\n",
              "      <th>1</th>\n",
              "      <td>05AE80266</td>\n",
              "      <td>9</td>\n",
              "      <td>'005AE80266</td>\n",
              "      <td>'005AE8026</td>\n",
              "    </tr>\n",
              "    <tr>\n",
              "      <th>2</th>\n",
              "      <td>06AL24912</td>\n",
              "      <td>9</td>\n",
              "      <td>'006AL24912</td>\n",
              "      <td>'006AL2491</td>\n",
              "    </tr>\n",
              "    <tr>\n",
              "      <th>3</th>\n",
              "      <td>06BA16405</td>\n",
              "      <td>9</td>\n",
              "      <td>'006BA16405</td>\n",
              "      <td>'006BA1640</td>\n",
              "    </tr>\n",
              "    <tr>\n",
              "      <th>4</th>\n",
              "      <td>06PC00615</td>\n",
              "      <td>9</td>\n",
              "      <td>'006PC00615</td>\n",
              "      <td>'006PC0061</td>\n",
              "    </tr>\n",
              "    <tr>\n",
              "      <th>...</th>\n",
              "      <td>...</td>\n",
              "      <td>...</td>\n",
              "      <td>...</td>\n",
              "      <td>...</td>\n",
              "    </tr>\n",
              "    <tr>\n",
              "      <th>35792</th>\n",
              "      <td>YA9366299</td>\n",
              "      <td>9</td>\n",
              "      <td>'0YA9366299</td>\n",
              "      <td>'0YA936629</td>\n",
              "    </tr>\n",
              "    <tr>\n",
              "      <th>35793</th>\n",
              "      <td>YB0525994</td>\n",
              "      <td>9</td>\n",
              "      <td>'0YB0525994</td>\n",
              "      <td>'0YB052599</td>\n",
              "    </tr>\n",
              "    <tr>\n",
              "      <th>35795</th>\n",
              "      <td>YB1272137</td>\n",
              "      <td>9</td>\n",
              "      <td>'0YB1272137</td>\n",
              "      <td>'0YB127213</td>\n",
              "    </tr>\n",
              "    <tr>\n",
              "      <th>35796</th>\n",
              "      <td>YB1887153</td>\n",
              "      <td>9</td>\n",
              "      <td>'0YB1887153</td>\n",
              "      <td>'0YB188715</td>\n",
              "    </tr>\n",
              "    <tr>\n",
              "      <th>35821</th>\n",
              "      <td>YB5057168</td>\n",
              "      <td>9</td>\n",
              "      <td>'0YB5057168</td>\n",
              "      <td>'0YB505716</td>\n",
              "    </tr>\n",
              "  </tbody>\n",
              "</table>\n",
              "<p>8385 rows × 4 columns</p>\n",
              "</div>"
            ],
            "text/plain": [
              "             NIT  Len_nit NIT_Modificado      NIT_10\n",
              "0      01D100827        9    '001D100827  '001D10082\n",
              "1      05AE80266        9    '005AE80266  '005AE8026\n",
              "2      06AL24912        9    '006AL24912  '006AL2491\n",
              "3      06BA16405        9    '006BA16405  '006BA1640\n",
              "4      06PC00615        9    '006PC00615  '006PC0061\n",
              "...          ...      ...            ...         ...\n",
              "35792  YA9366299        9    '0YA9366299  '0YA936629\n",
              "35793  YB0525994        9    '0YB0525994  '0YB052599\n",
              "35795  YB1272137        9    '0YB1272137  '0YB127213\n",
              "35796  YB1887153        9    '0YB1887153  '0YB188715\n",
              "35821  YB5057168        9    '0YB5057168  '0YB505716\n",
              "\n",
              "[8385 rows x 4 columns]"
            ]
          },
          "metadata": {},
          "execution_count": 21
        }
      ]
    },
    {
      "cell_type": "code",
      "metadata": {
        "colab": {
          "base_uri": "https://localhost:8080/"
        },
        "id": "0rlGKEQN2r9X",
        "outputId": "d4308513-a387-476b-9655-97d17744766a"
      },
      "source": [
        "df_nits.shape"
      ],
      "execution_count": null,
      "outputs": [
        {
          "output_type": "execute_result",
          "data": {
            "text/plain": [
              "(35893, 6)"
            ]
          },
          "metadata": {},
          "execution_count": 22
        }
      ]
    },
    {
      "cell_type": "markdown",
      "metadata": {
        "id": "Ssak6yGreKAL"
      },
      "source": [
        "# ✅ Estandarizar NIT de RUES"
      ]
    },
    {
      "cell_type": "code",
      "metadata": {
        "colab": {
          "base_uri": "https://localhost:8080/"
        },
        "id": "1JJd5QOYeKAs",
        "outputId": "8e69fb1c-9228-4c8f-ecea-112941bdedc4"
      },
      "source": [
        "df.columns"
      ],
      "execution_count": null,
      "outputs": [
        {
          "output_type": "execute_result",
          "data": {
            "text/plain": [
              "Index(['Cód Cámara', 'Matricula', 'Razón Social', 'Clase Identificación',\n",
              "       'Numero de Identificación', 'Digito de Verificación',\n",
              "       'Municipio Comercial', 'Dirección Comercial', 'Tel. Comercial 1',\n",
              "       'Tel. Comercial 2', 'Tel. Comercial 3', 'Correo Electrónico Comercial',\n",
              "       'Municipio Fiscal', 'Dirección Fiscal', 'Tel. Fiscal 1',\n",
              "       'Tel. Fiscal 2', 'Tel. Fiscal 3', 'Correo Electrónico Fiscal',\n",
              "       'Ultimo Año Renovado', 'Fecha Matricula', 'Fecha Renovación', 'Estado',\n",
              "       'Organización Jurídica', 'Categoría Matricula', 'CIIU Principal',\n",
              "       'CIIU Secundario', 'ciiu 3', 'ciiu 4', 'Empleados',\n",
              "       'Num Identificacion Representante Legal', 'Representante Legal',\n",
              "       'Fecha Actualizacion RUES'],\n",
              "      dtype='object')"
            ]
          },
          "metadata": {},
          "execution_count": 23
        }
      ]
    },
    {
      "cell_type": "code",
      "metadata": {
        "id": "vmn7jdTceKAu"
      },
      "source": [
        "# Utilizamos la función lamba que me permite iterar en cada fila. A cada valor de las celdas, lo nombro como \"x\"\n",
        "# Como son números, primero debo convertirlos en texto utilizando la función srt(), se hace sobre la variable \"x\" \n",
        "df['Len_nit'] = df['Numero de Identificación'].apply(lambda x: len(str(x)))"
      ],
      "execution_count": null,
      "outputs": []
    },
    {
      "cell_type": "code",
      "metadata": {
        "colab": {
          "base_uri": "https://localhost:8080/"
        },
        "id": "cH9NIglueKAw",
        "outputId": "1a6c3b46-3f2c-432c-9519-86249d62e6a0"
      },
      "source": [
        "# Verifico la cantidad de dígitos en cada posición. Todas deberían ser 10. De lo contrario, debo hacer ajustes.\n",
        "df['Len_nit'].unique()"
      ],
      "execution_count": null,
      "outputs": [
        {
          "output_type": "execute_result",
          "data": {
            "text/plain": [
              "array([ 7,  8,  6,  9,  3,  1, 11,  4,  5,  2, 10, 14, 12, 13])"
            ]
          },
          "metadata": {},
          "execution_count": 25
        }
      ]
    },
    {
      "cell_type": "code",
      "metadata": {
        "id": "A9I5z9yOegeV"
      },
      "source": [
        "df['CONTEO_B'] = 1"
      ],
      "execution_count": null,
      "outputs": []
    },
    {
      "cell_type": "code",
      "metadata": {
        "colab": {
          "base_uri": "https://localhost:8080/"
        },
        "id": "oIyGJp1geKA-",
        "outputId": "8ab11522-3516-4bd1-fb2c-da6aec10ba73"
      },
      "source": [
        "%%time\n",
        "# Check how many companies are by Len_Posicion. \n",
        "df_temp = pd.pivot_table(df, values = \"CONTEO_B\" , index = [\"Len_nit\"], aggfunc=np.sum).reset_index() \n",
        "print(df_temp.shape)"
      ],
      "execution_count": null,
      "outputs": [
        {
          "output_type": "stream",
          "name": "stdout",
          "text": [
            "(14, 2)\n",
            "CPU times: user 190 ms, sys: 35.3 ms, total: 225 ms\n",
            "Wall time: 227 ms\n"
          ]
        }
      ]
    },
    {
      "cell_type": "code",
      "metadata": {
        "colab": {
          "base_uri": "https://localhost:8080/",
          "height": 488
        },
        "id": "5P6Jvh6leKBC",
        "outputId": "be9bb277-9bf0-4181-8c15-c32bc51e124d"
      },
      "source": [
        "df_temp"
      ],
      "execution_count": null,
      "outputs": [
        {
          "output_type": "execute_result",
          "data": {
            "text/html": [
              "<div>\n",
              "<style scoped>\n",
              "    .dataframe tbody tr th:only-of-type {\n",
              "        vertical-align: middle;\n",
              "    }\n",
              "\n",
              "    .dataframe tbody tr th {\n",
              "        vertical-align: top;\n",
              "    }\n",
              "\n",
              "    .dataframe thead th {\n",
              "        text-align: right;\n",
              "    }\n",
              "</style>\n",
              "<table border=\"1\" class=\"dataframe\">\n",
              "  <thead>\n",
              "    <tr style=\"text-align: right;\">\n",
              "      <th></th>\n",
              "      <th>Len_nit</th>\n",
              "      <th>CONTEO_B</th>\n",
              "    </tr>\n",
              "  </thead>\n",
              "  <tbody>\n",
              "    <tr>\n",
              "      <th>0</th>\n",
              "      <td>1</td>\n",
              "      <td>15725</td>\n",
              "    </tr>\n",
              "    <tr>\n",
              "      <th>1</th>\n",
              "      <td>2</td>\n",
              "      <td>1334</td>\n",
              "    </tr>\n",
              "    <tr>\n",
              "      <th>2</th>\n",
              "      <td>3</td>\n",
              "      <td>6792</td>\n",
              "    </tr>\n",
              "    <tr>\n",
              "      <th>3</th>\n",
              "      <td>4</td>\n",
              "      <td>6512</td>\n",
              "    </tr>\n",
              "    <tr>\n",
              "      <th>4</th>\n",
              "      <td>5</td>\n",
              "      <td>7986</td>\n",
              "    </tr>\n",
              "    <tr>\n",
              "      <th>5</th>\n",
              "      <td>6</td>\n",
              "      <td>71460</td>\n",
              "    </tr>\n",
              "    <tr>\n",
              "      <th>6</th>\n",
              "      <td>7</td>\n",
              "      <td>692843</td>\n",
              "    </tr>\n",
              "    <tr>\n",
              "      <th>7</th>\n",
              "      <td>8</td>\n",
              "      <td>3866041</td>\n",
              "    </tr>\n",
              "    <tr>\n",
              "      <th>8</th>\n",
              "      <td>9</td>\n",
              "      <td>1664313</td>\n",
              "    </tr>\n",
              "    <tr>\n",
              "      <th>9</th>\n",
              "      <td>10</td>\n",
              "      <td>934272</td>\n",
              "    </tr>\n",
              "    <tr>\n",
              "      <th>10</th>\n",
              "      <td>11</td>\n",
              "      <td>40554</td>\n",
              "    </tr>\n",
              "    <tr>\n",
              "      <th>11</th>\n",
              "      <td>12</td>\n",
              "      <td>167</td>\n",
              "    </tr>\n",
              "    <tr>\n",
              "      <th>12</th>\n",
              "      <td>13</td>\n",
              "      <td>82</td>\n",
              "    </tr>\n",
              "    <tr>\n",
              "      <th>13</th>\n",
              "      <td>14</td>\n",
              "      <td>2822</td>\n",
              "    </tr>\n",
              "  </tbody>\n",
              "</table>\n",
              "</div>"
            ],
            "text/plain": [
              "    Len_nit  CONTEO_B\n",
              "0         1     15725\n",
              "1         2      1334\n",
              "2         3      6792\n",
              "3         4      6512\n",
              "4         5      7986\n",
              "5         6     71460\n",
              "6         7    692843\n",
              "7         8   3866041\n",
              "8         9   1664313\n",
              "9        10    934272\n",
              "10       11     40554\n",
              "11       12       167\n",
              "12       13        82\n",
              "13       14      2822"
            ]
          },
          "metadata": {},
          "execution_count": 28
        }
      ]
    },
    {
      "cell_type": "code",
      "metadata": {
        "id": "aY027Yq6eKBG"
      },
      "source": [
        "# Creo función que me permite incluir un cero al inicio de cada posición que es de sólo 9 dígitos. \n",
        "# Como este no tiene el código de verificación, se le coloca un cero menos a los NITS de las empresas exportadoras. \n",
        "def funcion_ajuste( nit , Len_nit  ):\n",
        "    if ( Len_nit == 9 ) :      \n",
        "        nit = \"'\" + str(nit)\n",
        "    elif ( Len_nit == 8 ) :  \n",
        "        nit = \"'0\" + str(nit)\n",
        "    elif ( Len_nit == 7 ) :  \n",
        "        nit = \"'00\" + str(nit)\n",
        "    else:\n",
        "        nit = \"'\" + str(nit)\n",
        "\n",
        "    return nit"
      ],
      "execution_count": null,
      "outputs": []
    },
    {
      "cell_type": "code",
      "metadata": {
        "colab": {
          "base_uri": "https://localhost:8080/"
        },
        "id": "8j2TwF3ueKBK",
        "outputId": "ba5d49d0-b5a0-45b1-c405-96f5591634b2"
      },
      "source": [
        "%%time\n",
        "# Es necesario fraccionar el proceso para no ocupar toda la memoria\n",
        "# Wall time: 1min 5s \n",
        "# Este proceso demanda varios recursos de memoria RAM. Por lo tanto, se hará por partes\n",
        "df[:1000000]['NIT_Modificado'] = df[:1000000].apply( lambda x: funcion_ajuste( x['Numero de Identificación'] , x['Len_nit']), axis=1 )"
      ],
      "execution_count": null,
      "outputs": [
        {
          "output_type": "stream",
          "name": "stdout",
          "text": [
            "CPU times: user 12 s, sys: 713 ms, total: 12.7 s\n",
            "Wall time: 12.8 s\n"
          ]
        },
        {
          "output_type": "stream",
          "name": "stderr",
          "text": [
            "/usr/local/lib/python3.7/dist-packages/ipykernel_launcher.py:4: SettingWithCopyWarning: \n",
            "A value is trying to be set on a copy of a slice from a DataFrame.\n",
            "Try using .loc[row_indexer,col_indexer] = value instead\n",
            "\n",
            "See the caveats in the documentation: https://pandas.pydata.org/pandas-docs/stable/user_guide/indexing.html#returning-a-view-versus-a-copy\n",
            "  after removing the cwd from sys.path.\n"
          ]
        }
      ]
    },
    {
      "cell_type": "code",
      "metadata": {
        "colab": {
          "base_uri": "https://localhost:8080/"
        },
        "id": "jbNCNvK6l3OM",
        "outputId": "aff379bd-9430-4067-ec41-20d5b75faf1a"
      },
      "source": [
        "%%time\n",
        "df[1000000:2000000]['NIT_Modificado'] = df[1000000:2000000].apply( lambda x: funcion_ajuste( x['Numero de Identificación'] , x['Len_nit']), axis=1 )"
      ],
      "execution_count": null,
      "outputs": [
        {
          "output_type": "stream",
          "name": "stdout",
          "text": [
            "CPU times: user 12.4 s, sys: 207 ms, total: 12.6 s\n",
            "Wall time: 12.6 s\n"
          ]
        },
        {
          "output_type": "stream",
          "name": "stderr",
          "text": [
            "/usr/local/lib/python3.7/dist-packages/ipykernel_launcher.py:1: SettingWithCopyWarning: \n",
            "A value is trying to be set on a copy of a slice from a DataFrame.\n",
            "Try using .loc[row_indexer,col_indexer] = value instead\n",
            "\n",
            "See the caveats in the documentation: https://pandas.pydata.org/pandas-docs/stable/user_guide/indexing.html#returning-a-view-versus-a-copy\n",
            "  \"\"\"Entry point for launching an IPython kernel.\n"
          ]
        }
      ]
    },
    {
      "cell_type": "code",
      "metadata": {
        "colab": {
          "base_uri": "https://localhost:8080/"
        },
        "id": "kYKvK0RxmA8Y",
        "outputId": "b2db27fa-b34b-4a3d-fc51-9817bb7a70c8"
      },
      "source": [
        "%%time\n",
        "df[2000000:3000000]['NIT_Modificado'] = df[2000000:3000000].apply( lambda x: funcion_ajuste( x['Numero de Identificación'] , x['Len_nit']), axis=1 )"
      ],
      "execution_count": null,
      "outputs": [
        {
          "output_type": "stream",
          "name": "stdout",
          "text": [
            "CPU times: user 12.4 s, sys: 222 ms, total: 12.6 s\n",
            "Wall time: 12.6 s\n"
          ]
        },
        {
          "output_type": "stream",
          "name": "stderr",
          "text": [
            "/usr/local/lib/python3.7/dist-packages/ipykernel_launcher.py:1: SettingWithCopyWarning: \n",
            "A value is trying to be set on a copy of a slice from a DataFrame.\n",
            "Try using .loc[row_indexer,col_indexer] = value instead\n",
            "\n",
            "See the caveats in the documentation: https://pandas.pydata.org/pandas-docs/stable/user_guide/indexing.html#returning-a-view-versus-a-copy\n",
            "  \"\"\"Entry point for launching an IPython kernel.\n"
          ]
        }
      ]
    },
    {
      "cell_type": "code",
      "metadata": {
        "colab": {
          "base_uri": "https://localhost:8080/"
        },
        "id": "UiGMg8DPmC8h",
        "outputId": "405a5c8b-36cc-401f-b1ec-e01206ef985b"
      },
      "source": [
        "%%time\n",
        "df[3000000:5000000]['NIT_Modificado'] = df[3000000:5000000].apply( lambda x: funcion_ajuste( x['Numero de Identificación'] , x['Len_nit']), axis=1 )"
      ],
      "execution_count": null,
      "outputs": [
        {
          "output_type": "stream",
          "name": "stdout",
          "text": [
            "CPU times: user 24.1 s, sys: 1.4 s, total: 25.5 s\n",
            "Wall time: 25.6 s\n"
          ]
        },
        {
          "output_type": "stream",
          "name": "stderr",
          "text": [
            "/usr/local/lib/python3.7/dist-packages/ipykernel_launcher.py:1: SettingWithCopyWarning: \n",
            "A value is trying to be set on a copy of a slice from a DataFrame.\n",
            "Try using .loc[row_indexer,col_indexer] = value instead\n",
            "\n",
            "See the caveats in the documentation: https://pandas.pydata.org/pandas-docs/stable/user_guide/indexing.html#returning-a-view-versus-a-copy\n",
            "  \"\"\"Entry point for launching an IPython kernel.\n"
          ]
        }
      ]
    },
    {
      "cell_type": "code",
      "metadata": {
        "colab": {
          "base_uri": "https://localhost:8080/"
        },
        "id": "VoqccSCZmD6z",
        "outputId": "467b3de1-80a6-48ee-a9e3-37b1d97dc77c"
      },
      "source": [
        "%%time\n",
        "df[5000000:]['NIT_Modificado'] = df[5000000:].apply( lambda x: funcion_ajuste( x['Numero de Identificación'] , x['Len_nit']), axis=1 )"
      ],
      "execution_count": null,
      "outputs": [
        {
          "output_type": "stream",
          "name": "stdout",
          "text": [
            "CPU times: user 28 s, sys: 558 ms, total: 28.6 s\n",
            "Wall time: 28.6 s\n"
          ]
        },
        {
          "output_type": "stream",
          "name": "stderr",
          "text": [
            "/usr/local/lib/python3.7/dist-packages/ipykernel_launcher.py:1: SettingWithCopyWarning: \n",
            "A value is trying to be set on a copy of a slice from a DataFrame.\n",
            "Try using .loc[row_indexer,col_indexer] = value instead\n",
            "\n",
            "See the caveats in the documentation: https://pandas.pydata.org/pandas-docs/stable/user_guide/indexing.html#returning-a-view-versus-a-copy\n",
            "  \"\"\"Entry point for launching an IPython kernel.\n"
          ]
        }
      ]
    },
    {
      "cell_type": "code",
      "metadata": {
        "colab": {
          "base_uri": "https://localhost:8080/"
        },
        "id": "E-I1cjQxmIVW",
        "outputId": "5596aab6-900d-4277-f02b-ce99206a3722"
      },
      "source": [
        "df.shape"
      ],
      "execution_count": null,
      "outputs": [
        {
          "output_type": "execute_result",
          "data": {
            "text/plain": [
              "(7310903, 35)"
            ]
          },
          "metadata": {},
          "execution_count": 47
        }
      ]
    },
    {
      "cell_type": "code",
      "metadata": {
        "id": "poZIhn44j8mj"
      },
      "source": [
        "df.head(5)"
      ],
      "execution_count": null,
      "outputs": []
    },
    {
      "cell_type": "code",
      "metadata": {
        "colab": {
          "base_uri": "https://localhost:8080/",
          "height": 423
        },
        "id": "I_Hunlu5eKBL",
        "outputId": "d2abf5fd-2d9a-4740-a268-c9716100d45b"
      },
      "source": [
        "# Filtro los NITS que son de 11 dígitos para asegurarnos que quedaron de 11 al incluirle un cero\n",
        "df[ (df['Len_nit']==11) ][['Numero de Identificación','Len_nit', 'NIT_Modificado']]"
      ],
      "execution_count": null,
      "outputs": [
        {
          "output_type": "execute_result",
          "data": {
            "text/html": [
              "<div>\n",
              "<style scoped>\n",
              "    .dataframe tbody tr th:only-of-type {\n",
              "        vertical-align: middle;\n",
              "    }\n",
              "\n",
              "    .dataframe tbody tr th {\n",
              "        vertical-align: top;\n",
              "    }\n",
              "\n",
              "    .dataframe thead th {\n",
              "        text-align: right;\n",
              "    }\n",
              "</style>\n",
              "<table border=\"1\" class=\"dataframe\">\n",
              "  <thead>\n",
              "    <tr style=\"text-align: right;\">\n",
              "      <th></th>\n",
              "      <th>Numero de Identificación</th>\n",
              "      <th>Len_nit</th>\n",
              "      <th>NIT_Modificado</th>\n",
              "    </tr>\n",
              "  </thead>\n",
              "  <tbody>\n",
              "    <tr>\n",
              "      <th>106</th>\n",
              "      <td>50000000216</td>\n",
              "      <td>11</td>\n",
              "      <td>'50000000216</td>\n",
              "    </tr>\n",
              "    <tr>\n",
              "      <th>435</th>\n",
              "      <td>50000001802</td>\n",
              "      <td>11</td>\n",
              "      <td>'50000001802</td>\n",
              "    </tr>\n",
              "    <tr>\n",
              "      <th>667</th>\n",
              "      <td>50000002342</td>\n",
              "      <td>11</td>\n",
              "      <td>'50000002342</td>\n",
              "    </tr>\n",
              "    <tr>\n",
              "      <th>767</th>\n",
              "      <td>50000002586</td>\n",
              "      <td>11</td>\n",
              "      <td>'50000002586</td>\n",
              "    </tr>\n",
              "    <tr>\n",
              "      <th>907</th>\n",
              "      <td>50000002945</td>\n",
              "      <td>11</td>\n",
              "      <td>'50000002945</td>\n",
              "    </tr>\n",
              "    <tr>\n",
              "      <th>...</th>\n",
              "      <td>...</td>\n",
              "      <td>...</td>\n",
              "      <td>...</td>\n",
              "    </tr>\n",
              "    <tr>\n",
              "      <th>7310178</th>\n",
              "      <td>50000500120</td>\n",
              "      <td>11</td>\n",
              "      <td>'50000500120</td>\n",
              "    </tr>\n",
              "    <tr>\n",
              "      <th>7310179</th>\n",
              "      <td>50000500121</td>\n",
              "      <td>11</td>\n",
              "      <td>'50000500121</td>\n",
              "    </tr>\n",
              "    <tr>\n",
              "      <th>7310492</th>\n",
              "      <td>50000500463</td>\n",
              "      <td>11</td>\n",
              "      <td>'50000500463</td>\n",
              "    </tr>\n",
              "    <tr>\n",
              "      <th>7310495</th>\n",
              "      <td>50000500466</td>\n",
              "      <td>11</td>\n",
              "      <td>'50000500466</td>\n",
              "    </tr>\n",
              "    <tr>\n",
              "      <th>7310496</th>\n",
              "      <td>50000500467</td>\n",
              "      <td>11</td>\n",
              "      <td>'50000500467</td>\n",
              "    </tr>\n",
              "  </tbody>\n",
              "</table>\n",
              "<p>40554 rows × 3 columns</p>\n",
              "</div>"
            ],
            "text/plain": [
              "        Numero de Identificación  Len_nit NIT_Modificado\n",
              "106                  50000000216       11   '50000000216\n",
              "435                  50000001802       11   '50000001802\n",
              "667                  50000002342       11   '50000002342\n",
              "767                  50000002586       11   '50000002586\n",
              "907                  50000002945       11   '50000002945\n",
              "...                          ...      ...            ...\n",
              "7310178              50000500120       11   '50000500120\n",
              "7310179              50000500121       11   '50000500121\n",
              "7310492              50000500463       11   '50000500463\n",
              "7310495              50000500466       11   '50000500466\n",
              "7310496              50000500467       11   '50000500467\n",
              "\n",
              "[40554 rows x 3 columns]"
            ]
          },
          "metadata": {},
          "execution_count": 48
        }
      ]
    },
    {
      "cell_type": "markdown",
      "metadata": {
        "id": "j1l_IuzjeKBM"
      },
      "source": [
        "## 🟠 Extraer los NITS a 10 dígitos"
      ]
    },
    {
      "cell_type": "code",
      "metadata": {
        "id": "kmXQnlH_eKBM"
      },
      "source": [
        "%%time \n",
        "# Extraigo los primeros 9 caracteres. \n",
        "df['NIT_10'] = df['NIT_Modificado'].str[:10]"
      ],
      "execution_count": null,
      "outputs": []
    },
    {
      "cell_type": "code",
      "metadata": {
        "colab": {
          "base_uri": "https://localhost:8080/",
          "height": 423
        },
        "id": "tUetF7tTeKBN",
        "outputId": "30493dd6-06f0-477b-ecd6-fe616492956b"
      },
      "source": [
        "# Verifico resultados. \n",
        "df[ (df['Len_nit']==11) ][['Numero de Identificación','Len_nit', 'NIT_Modificado', 'NIT_10']]"
      ],
      "execution_count": null,
      "outputs": [
        {
          "output_type": "execute_result",
          "data": {
            "text/html": [
              "<div>\n",
              "<style scoped>\n",
              "    .dataframe tbody tr th:only-of-type {\n",
              "        vertical-align: middle;\n",
              "    }\n",
              "\n",
              "    .dataframe tbody tr th {\n",
              "        vertical-align: top;\n",
              "    }\n",
              "\n",
              "    .dataframe thead th {\n",
              "        text-align: right;\n",
              "    }\n",
              "</style>\n",
              "<table border=\"1\" class=\"dataframe\">\n",
              "  <thead>\n",
              "    <tr style=\"text-align: right;\">\n",
              "      <th></th>\n",
              "      <th>Numero de Identificación</th>\n",
              "      <th>Len_nit</th>\n",
              "      <th>NIT_Modificado</th>\n",
              "      <th>NIT_10</th>\n",
              "    </tr>\n",
              "  </thead>\n",
              "  <tbody>\n",
              "    <tr>\n",
              "      <th>106</th>\n",
              "      <td>50000000216</td>\n",
              "      <td>11</td>\n",
              "      <td>'50000000216</td>\n",
              "      <td>'500000002</td>\n",
              "    </tr>\n",
              "    <tr>\n",
              "      <th>435</th>\n",
              "      <td>50000001802</td>\n",
              "      <td>11</td>\n",
              "      <td>'50000001802</td>\n",
              "      <td>'500000018</td>\n",
              "    </tr>\n",
              "    <tr>\n",
              "      <th>667</th>\n",
              "      <td>50000002342</td>\n",
              "      <td>11</td>\n",
              "      <td>'50000002342</td>\n",
              "      <td>'500000023</td>\n",
              "    </tr>\n",
              "    <tr>\n",
              "      <th>767</th>\n",
              "      <td>50000002586</td>\n",
              "      <td>11</td>\n",
              "      <td>'50000002586</td>\n",
              "      <td>'500000025</td>\n",
              "    </tr>\n",
              "    <tr>\n",
              "      <th>907</th>\n",
              "      <td>50000002945</td>\n",
              "      <td>11</td>\n",
              "      <td>'50000002945</td>\n",
              "      <td>'500000029</td>\n",
              "    </tr>\n",
              "    <tr>\n",
              "      <th>...</th>\n",
              "      <td>...</td>\n",
              "      <td>...</td>\n",
              "      <td>...</td>\n",
              "      <td>...</td>\n",
              "    </tr>\n",
              "    <tr>\n",
              "      <th>7310178</th>\n",
              "      <td>50000500120</td>\n",
              "      <td>11</td>\n",
              "      <td>'50000500120</td>\n",
              "      <td>'500005001</td>\n",
              "    </tr>\n",
              "    <tr>\n",
              "      <th>7310179</th>\n",
              "      <td>50000500121</td>\n",
              "      <td>11</td>\n",
              "      <td>'50000500121</td>\n",
              "      <td>'500005001</td>\n",
              "    </tr>\n",
              "    <tr>\n",
              "      <th>7310492</th>\n",
              "      <td>50000500463</td>\n",
              "      <td>11</td>\n",
              "      <td>'50000500463</td>\n",
              "      <td>'500005004</td>\n",
              "    </tr>\n",
              "    <tr>\n",
              "      <th>7310495</th>\n",
              "      <td>50000500466</td>\n",
              "      <td>11</td>\n",
              "      <td>'50000500466</td>\n",
              "      <td>'500005004</td>\n",
              "    </tr>\n",
              "    <tr>\n",
              "      <th>7310496</th>\n",
              "      <td>50000500467</td>\n",
              "      <td>11</td>\n",
              "      <td>'50000500467</td>\n",
              "      <td>'500005004</td>\n",
              "    </tr>\n",
              "  </tbody>\n",
              "</table>\n",
              "<p>40554 rows × 4 columns</p>\n",
              "</div>"
            ],
            "text/plain": [
              "        Numero de Identificación  Len_nit NIT_Modificado      NIT_10\n",
              "106                  50000000216       11   '50000000216  '500000002\n",
              "435                  50000001802       11   '50000001802  '500000018\n",
              "667                  50000002342       11   '50000002342  '500000023\n",
              "767                  50000002586       11   '50000002586  '500000025\n",
              "907                  50000002945       11   '50000002945  '500000029\n",
              "...                          ...      ...            ...         ...\n",
              "7310178              50000500120       11   '50000500120  '500005001\n",
              "7310179              50000500121       11   '50000500121  '500005001\n",
              "7310492              50000500463       11   '50000500463  '500005004\n",
              "7310495              50000500466       11   '50000500466  '500005004\n",
              "7310496              50000500467       11   '50000500467  '500005004\n",
              "\n",
              "[40554 rows x 4 columns]"
            ]
          },
          "metadata": {},
          "execution_count": 52
        }
      ]
    },
    {
      "cell_type": "code",
      "metadata": {
        "colab": {
          "base_uri": "https://localhost:8080/",
          "height": 423
        },
        "id": "0BX-_yFIeKBN",
        "outputId": "8557defa-8862-4d2e-a163-f0c6bf868869"
      },
      "source": [
        "# Verifico resultados. \n",
        "df[ (df['Len_nit']==9) ][['Numero de Identificación','Len_nit', 'NIT_Modificado', 'NIT_10']]"
      ],
      "execution_count": null,
      "outputs": [
        {
          "output_type": "execute_result",
          "data": {
            "text/html": [
              "<div>\n",
              "<style scoped>\n",
              "    .dataframe tbody tr th:only-of-type {\n",
              "        vertical-align: middle;\n",
              "    }\n",
              "\n",
              "    .dataframe tbody tr th {\n",
              "        vertical-align: top;\n",
              "    }\n",
              "\n",
              "    .dataframe thead th {\n",
              "        text-align: right;\n",
              "    }\n",
              "</style>\n",
              "<table border=\"1\" class=\"dataframe\">\n",
              "  <thead>\n",
              "    <tr style=\"text-align: right;\">\n",
              "      <th></th>\n",
              "      <th>Numero de Identificación</th>\n",
              "      <th>Len_nit</th>\n",
              "      <th>NIT_Modificado</th>\n",
              "      <th>NIT_10</th>\n",
              "    </tr>\n",
              "  </thead>\n",
              "  <tbody>\n",
              "    <tr>\n",
              "      <th>46</th>\n",
              "      <td>890001559</td>\n",
              "      <td>9</td>\n",
              "      <td>'890001559</td>\n",
              "      <td>'890001559</td>\n",
              "    </tr>\n",
              "    <tr>\n",
              "      <th>100</th>\n",
              "      <td>890000188</td>\n",
              "      <td>9</td>\n",
              "      <td>'890000188</td>\n",
              "      <td>'890000188</td>\n",
              "    </tr>\n",
              "    <tr>\n",
              "      <th>121</th>\n",
              "      <td>890000416</td>\n",
              "      <td>9</td>\n",
              "      <td>'890000416</td>\n",
              "      <td>'890000416</td>\n",
              "    </tr>\n",
              "    <tr>\n",
              "      <th>154</th>\n",
              "      <td>890002474</td>\n",
              "      <td>9</td>\n",
              "      <td>'890002474</td>\n",
              "      <td>'890002474</td>\n",
              "    </tr>\n",
              "    <tr>\n",
              "      <th>183</th>\n",
              "      <td>890000198</td>\n",
              "      <td>9</td>\n",
              "      <td>'890000198</td>\n",
              "      <td>'890000198</td>\n",
              "    </tr>\n",
              "    <tr>\n",
              "      <th>...</th>\n",
              "      <td>...</td>\n",
              "      <td>...</td>\n",
              "      <td>...</td>\n",
              "      <td>...</td>\n",
              "    </tr>\n",
              "    <tr>\n",
              "      <th>7310898</th>\n",
              "      <td>901486944</td>\n",
              "      <td>9</td>\n",
              "      <td>'901486944</td>\n",
              "      <td>'901486944</td>\n",
              "    </tr>\n",
              "    <tr>\n",
              "      <th>7310899</th>\n",
              "      <td>901488693</td>\n",
              "      <td>9</td>\n",
              "      <td>'901488693</td>\n",
              "      <td>'901488693</td>\n",
              "    </tr>\n",
              "    <tr>\n",
              "      <th>7310900</th>\n",
              "      <td>901488274</td>\n",
              "      <td>9</td>\n",
              "      <td>'901488274</td>\n",
              "      <td>'901488274</td>\n",
              "    </tr>\n",
              "    <tr>\n",
              "      <th>7310901</th>\n",
              "      <td>901488269</td>\n",
              "      <td>9</td>\n",
              "      <td>'901488269</td>\n",
              "      <td>'901488269</td>\n",
              "    </tr>\n",
              "    <tr>\n",
              "      <th>7310902</th>\n",
              "      <td>901488441</td>\n",
              "      <td>9</td>\n",
              "      <td>'901488441</td>\n",
              "      <td>'901488441</td>\n",
              "    </tr>\n",
              "  </tbody>\n",
              "</table>\n",
              "<p>1664313 rows × 4 columns</p>\n",
              "</div>"
            ],
            "text/plain": [
              "        Numero de Identificación  Len_nit NIT_Modificado      NIT_10\n",
              "46                     890001559        9     '890001559  '890001559\n",
              "100                    890000188        9     '890000188  '890000188\n",
              "121                    890000416        9     '890000416  '890000416\n",
              "154                    890002474        9     '890002474  '890002474\n",
              "183                    890000198        9     '890000198  '890000198\n",
              "...                          ...      ...            ...         ...\n",
              "7310898                901486944        9     '901486944  '901486944\n",
              "7310899                901488693        9     '901488693  '901488693\n",
              "7310900                901488274        9     '901488274  '901488274\n",
              "7310901                901488269        9     '901488269  '901488269\n",
              "7310902                901488441        9     '901488441  '901488441\n",
              "\n",
              "[1664313 rows x 4 columns]"
            ]
          },
          "metadata": {},
          "execution_count": 54
        }
      ]
    },
    {
      "cell_type": "code",
      "metadata": {
        "colab": {
          "base_uri": "https://localhost:8080/"
        },
        "id": "48Y21aKmeKBO",
        "outputId": "dc1edfe3-171e-4194-ac54-053d23ca4492"
      },
      "source": [
        "df.shape"
      ],
      "execution_count": null,
      "outputs": [
        {
          "output_type": "execute_result",
          "data": {
            "text/plain": [
              "(7310903, 36)"
            ]
          },
          "metadata": {},
          "execution_count": 55
        }
      ]
    },
    {
      "cell_type": "markdown",
      "metadata": {
        "id": "qOmlTgpknISw"
      },
      "source": [
        "# ✅ Hacer el BuscarV"
      ]
    },
    {
      "cell_type": "code",
      "metadata": {
        "colab": {
          "base_uri": "https://localhost:8080/"
        },
        "id": "hephSoy2nS9C",
        "outputId": "441c3436-ef50-46f3-d62a-c0b6e65050cf"
      },
      "source": [
        "%whos DataFrame"
      ],
      "execution_count": null,
      "outputs": [
        {
          "output_type": "stream",
          "name": "stdout",
          "text": [
            "Variable   Type         Data/Info\n",
            "---------------------------------\n",
            "df         DataFrame             Cód Cámara   Mat<...>310903 rows x 36 columns]\n",
            "df_nits    DataFrame                 NIT  ...    <...>n[35893 rows x 6 columns]\n",
            "df_temp    DataFrame        Len_nit  CONTEO_B\\n0 <...>82\\n13       14      2822\n"
          ]
        }
      ]
    },
    {
      "cell_type": "code",
      "metadata": {
        "colab": {
          "base_uri": "https://localhost:8080/"
        },
        "id": "p-yF2WzfnpI8",
        "outputId": "d6c87c7e-3b77-4554-dd2b-53d99344b0f1"
      },
      "source": [
        "df.columns"
      ],
      "execution_count": null,
      "outputs": [
        {
          "output_type": "execute_result",
          "data": {
            "text/plain": [
              "Index(['Cód Cámara', 'Matricula', 'Razón Social', 'Clase Identificación',\n",
              "       'Numero de Identificación', 'Digito de Verificación',\n",
              "       'Municipio Comercial', 'Dirección Comercial', 'Tel. Comercial 1',\n",
              "       'Tel. Comercial 2', 'Tel. Comercial 3', 'Correo Electrónico Comercial',\n",
              "       'Municipio Fiscal', 'Dirección Fiscal', 'Tel. Fiscal 1',\n",
              "       'Tel. Fiscal 2', 'Tel. Fiscal 3', 'Correo Electrónico Fiscal',\n",
              "       'Ultimo Año Renovado', 'Fecha Matricula', 'Fecha Renovación', 'Estado',\n",
              "       'Organización Jurídica', 'Categoría Matricula', 'CIIU Principal',\n",
              "       'CIIU Secundario', 'ciiu 3', 'ciiu 4', 'Empleados',\n",
              "       'Num Identificacion Representante Legal', 'Representante Legal',\n",
              "       'Fecha Actualizacion RUES', 'Len_nit', 'CONTEO_B', 'NIT_Modificado',\n",
              "       'NIT_10'],\n",
              "      dtype='object')"
            ]
          },
          "metadata": {},
          "execution_count": 57
        }
      ]
    },
    {
      "cell_type": "code",
      "metadata": {
        "colab": {
          "base_uri": "https://localhost:8080/"
        },
        "id": "1L3Spn3tn08I",
        "outputId": "df474a0f-b394-49a6-9223-684b3803538d"
      },
      "source": [
        "%%time\n",
        "# Check if there is any \"NIT\" associated with more than one \"RAZ_SIAL\", if so, we need to correct all the mistakes. \n",
        "df_temp2 = pd.pivot_table(df, values = \"CONTEO_B\" , index = [\"Clase Identificación\"], aggfunc=np.sum).reset_index() # columns = \"count\",\n",
        "df_temp2 = df_temp2.sort_values(['CONTEO_B'], ascending=[False])\n",
        "print(df_temp2.shape)"
      ],
      "execution_count": null,
      "outputs": [
        {
          "output_type": "stream",
          "name": "stdout",
          "text": [
            "(14, 2)\n",
            "CPU times: user 440 ms, sys: 7.74 ms, total: 447 ms\n",
            "Wall time: 449 ms\n"
          ]
        }
      ]
    },
    {
      "cell_type": "code",
      "metadata": {
        "colab": {
          "base_uri": "https://localhost:8080/",
          "height": 206
        },
        "id": "0-IPXncxoEil",
        "outputId": "04beb507-dfc7-473c-b4b7-0f268502d1b8"
      },
      "source": [
        "df_temp2.head()"
      ],
      "execution_count": null,
      "outputs": [
        {
          "output_type": "execute_result",
          "data": {
            "text/html": [
              "<div>\n",
              "<style scoped>\n",
              "    .dataframe tbody tr th:only-of-type {\n",
              "        vertical-align: middle;\n",
              "    }\n",
              "\n",
              "    .dataframe tbody tr th {\n",
              "        vertical-align: top;\n",
              "    }\n",
              "\n",
              "    .dataframe thead th {\n",
              "        text-align: right;\n",
              "    }\n",
              "</style>\n",
              "<table border=\"1\" class=\"dataframe\">\n",
              "  <thead>\n",
              "    <tr style=\"text-align: right;\">\n",
              "      <th></th>\n",
              "      <th>Clase Identificación</th>\n",
              "      <th>CONTEO_B</th>\n",
              "    </tr>\n",
              "  </thead>\n",
              "  <tbody>\n",
              "    <tr>\n",
              "      <th>2</th>\n",
              "      <td>CEDULA DE CIUDADANIA</td>\n",
              "      <td>4966945</td>\n",
              "    </tr>\n",
              "    <tr>\n",
              "      <th>8</th>\n",
              "      <td>NIT</td>\n",
              "      <td>2228242</td>\n",
              "    </tr>\n",
              "    <tr>\n",
              "      <th>12</th>\n",
              "      <td>SIN IDENTIFICACION</td>\n",
              "      <td>83228</td>\n",
              "    </tr>\n",
              "    <tr>\n",
              "      <th>3</th>\n",
              "      <td>CEDULA DE EXTRANJERIA</td>\n",
              "      <td>20522</td>\n",
              "    </tr>\n",
              "    <tr>\n",
              "      <th>9</th>\n",
              "      <td>PASAPORTE</td>\n",
              "      <td>9243</td>\n",
              "    </tr>\n",
              "  </tbody>\n",
              "</table>\n",
              "</div>"
            ],
            "text/plain": [
              "     Clase Identificación  CONTEO_B\n",
              "2    CEDULA DE CIUDADANIA   4966945\n",
              "8                     NIT   2228242\n",
              "12     SIN IDENTIFICACION     83228\n",
              "3   CEDULA DE EXTRANJERIA     20522\n",
              "9               PASAPORTE      9243"
            ]
          },
          "metadata": {},
          "execution_count": 62
        }
      ]
    },
    {
      "cell_type": "code",
      "metadata": {
        "id": "3HkcQAZGnwOr"
      },
      "source": [
        "# Filtro clase \n",
        "# df[['NIT_10','Razón Social',\"CONTEO_B\",'Ultimo Año Renovado', 'Fecha Matricula', 'Fecha Renovación', 'Estado']]"
      ],
      "execution_count": null,
      "outputs": []
    },
    {
      "cell_type": "code",
      "metadata": {
        "colab": {
          "base_uri": "https://localhost:8080/"
        },
        "id": "I-nglxBgnHoS",
        "outputId": "68c02a57-296b-41a7-93c6-f65747538d00"
      },
      "source": [
        "%%time \n",
        "# Merge df_NITS. Filtro la tabla para solo trabajar con la base RUES donde la Clase Identificación == NIT\n",
        "df_NITS_Final = pd.merge( df_nits , df[ (df['Clase Identificación']==\"NIT\") ][['NIT_Modificado','NIT_10','Razón Social','Clase Identificación',\"CONTEO_B\",\n",
        "                                                                               'Ultimo Año Renovado', 'Fecha Matricula', 'Fecha Renovación', 'Estado']] , how = 'left' , \n",
        "              left_on = [ 'NIT_10' ] , right_on = [ 'NIT_10' ])"
      ],
      "execution_count": null,
      "outputs": [
        {
          "output_type": "stream",
          "name": "stdout",
          "text": [
            "CPU times: user 4.67 s, sys: 35.7 ms, total: 4.71 s\n",
            "Wall time: 4.69 s\n"
          ]
        }
      ]
    },
    {
      "cell_type": "code",
      "metadata": {
        "colab": {
          "base_uri": "https://localhost:8080/"
        },
        "id": "Z3231Q-VpKnU",
        "outputId": "3e27b931-6576-4738-f7d5-6a071d7a4cd8"
      },
      "source": [
        "df_nits.shape"
      ],
      "execution_count": null,
      "outputs": [
        {
          "output_type": "execute_result",
          "data": {
            "text/plain": [
              "(35893, 6)"
            ]
          },
          "metadata": {},
          "execution_count": 83
        }
      ]
    },
    {
      "cell_type": "code",
      "metadata": {
        "colab": {
          "base_uri": "https://localhost:8080/"
        },
        "id": "nGUqBi9UpIEa",
        "outputId": "e9893c96-6ef1-4275-ccf9-2c7c6e1a2ffb"
      },
      "source": [
        "df_NITS_Final.shape"
      ],
      "execution_count": null,
      "outputs": [
        {
          "output_type": "execute_result",
          "data": {
            "text/plain": [
              "(40444, 14)"
            ]
          },
          "metadata": {},
          "execution_count": 84
        }
      ]
    },
    {
      "cell_type": "code",
      "metadata": {
        "colab": {
          "base_uri": "https://localhost:8080/",
          "height": 293
        },
        "id": "-WV3FzFepYpO",
        "outputId": "ed86b1e4-3be2-42c7-c68c-789bacd9ba09"
      },
      "source": [
        "df_NITS_Final.head()"
      ],
      "execution_count": null,
      "outputs": [
        {
          "output_type": "execute_result",
          "data": {
            "text/html": [
              "<div>\n",
              "<style scoped>\n",
              "    .dataframe tbody tr th:only-of-type {\n",
              "        vertical-align: middle;\n",
              "    }\n",
              "\n",
              "    .dataframe tbody tr th {\n",
              "        vertical-align: top;\n",
              "    }\n",
              "\n",
              "    .dataframe thead th {\n",
              "        text-align: right;\n",
              "    }\n",
              "</style>\n",
              "<table border=\"1\" class=\"dataframe\">\n",
              "  <thead>\n",
              "    <tr style=\"text-align: right;\">\n",
              "      <th></th>\n",
              "      <th>NIT</th>\n",
              "      <th>RAZON_SOCIAL</th>\n",
              "      <th>CONTEO_A</th>\n",
              "      <th>Len_nit</th>\n",
              "      <th>NIT_Modificado_x</th>\n",
              "      <th>NIT_10</th>\n",
              "      <th>NIT_Modificado_y</th>\n",
              "      <th>Razón Social</th>\n",
              "      <th>Clase Identificación</th>\n",
              "      <th>CONTEO_B</th>\n",
              "      <th>Ultimo Año Renovado</th>\n",
              "      <th>Fecha Matricula</th>\n",
              "      <th>Fecha Renovación</th>\n",
              "      <th>Estado</th>\n",
              "    </tr>\n",
              "  </thead>\n",
              "  <tbody>\n",
              "    <tr>\n",
              "      <th>0</th>\n",
              "      <td>01D100827</td>\n",
              "      <td>STEFAN FLORICA STEFANESCU                     ...</td>\n",
              "      <td>1</td>\n",
              "      <td>9</td>\n",
              "      <td>'001D100827</td>\n",
              "      <td>'001D10082</td>\n",
              "      <td>NaN</td>\n",
              "      <td>NaN</td>\n",
              "      <td>NaN</td>\n",
              "      <td>NaN</td>\n",
              "      <td>NaN</td>\n",
              "      <td>NaN</td>\n",
              "      <td>NaN</td>\n",
              "      <td>NaN</td>\n",
              "    </tr>\n",
              "    <tr>\n",
              "      <th>1</th>\n",
              "      <td>05AE80266</td>\n",
              "      <td>DE FRANCONY  GERARD GILBERT                   ...</td>\n",
              "      <td>1</td>\n",
              "      <td>9</td>\n",
              "      <td>'005AE80266</td>\n",
              "      <td>'005AE8026</td>\n",
              "      <td>NaN</td>\n",
              "      <td>NaN</td>\n",
              "      <td>NaN</td>\n",
              "      <td>NaN</td>\n",
              "      <td>NaN</td>\n",
              "      <td>NaN</td>\n",
              "      <td>NaN</td>\n",
              "      <td>NaN</td>\n",
              "    </tr>\n",
              "    <tr>\n",
              "      <th>2</th>\n",
              "      <td>06AL24912</td>\n",
              "      <td>BOUDET  MADELEINE MATHILDE ANDREE             ...</td>\n",
              "      <td>1</td>\n",
              "      <td>9</td>\n",
              "      <td>'006AL24912</td>\n",
              "      <td>'006AL2491</td>\n",
              "      <td>NaN</td>\n",
              "      <td>NaN</td>\n",
              "      <td>NaN</td>\n",
              "      <td>NaN</td>\n",
              "      <td>NaN</td>\n",
              "      <td>NaN</td>\n",
              "      <td>NaN</td>\n",
              "      <td>NaN</td>\n",
              "    </tr>\n",
              "    <tr>\n",
              "      <th>3</th>\n",
              "      <td>06BA16405</td>\n",
              "      <td>FEIGELSON JOHANSSON ERIC WILLIAM              ...</td>\n",
              "      <td>1</td>\n",
              "      <td>9</td>\n",
              "      <td>'006BA16405</td>\n",
              "      <td>'006BA1640</td>\n",
              "      <td>NaN</td>\n",
              "      <td>NaN</td>\n",
              "      <td>NaN</td>\n",
              "      <td>NaN</td>\n",
              "      <td>NaN</td>\n",
              "      <td>NaN</td>\n",
              "      <td>NaN</td>\n",
              "      <td>NaN</td>\n",
              "    </tr>\n",
              "    <tr>\n",
              "      <th>4</th>\n",
              "      <td>06PC00615</td>\n",
              "      <td>MACIA DURAN VANESSA                           ...</td>\n",
              "      <td>1</td>\n",
              "      <td>9</td>\n",
              "      <td>'006PC00615</td>\n",
              "      <td>'006PC0061</td>\n",
              "      <td>NaN</td>\n",
              "      <td>NaN</td>\n",
              "      <td>NaN</td>\n",
              "      <td>NaN</td>\n",
              "      <td>NaN</td>\n",
              "      <td>NaN</td>\n",
              "      <td>NaN</td>\n",
              "      <td>NaN</td>\n",
              "    </tr>\n",
              "  </tbody>\n",
              "</table>\n",
              "</div>"
            ],
            "text/plain": [
              "         NIT  ... Estado\n",
              "0  01D100827  ...    NaN\n",
              "1  05AE80266  ...    NaN\n",
              "2  06AL24912  ...    NaN\n",
              "3  06BA16405  ...    NaN\n",
              "4  06PC00615  ...    NaN\n",
              "\n",
              "[5 rows x 14 columns]"
            ]
          },
          "metadata": {},
          "execution_count": 85
        }
      ]
    },
    {
      "cell_type": "code",
      "metadata": {
        "id": "JzCLxS5-pvB6"
      },
      "source": [
        "df_NITS_Final = df_NITS_Final[ (df_NITS_Final['CONTEO_B']==1 ) ]"
      ],
      "execution_count": null,
      "outputs": []
    },
    {
      "cell_type": "code",
      "metadata": {
        "colab": {
          "base_uri": "https://localhost:8080/"
        },
        "id": "7PG-mPbVqCP9",
        "outputId": "945258e6-4f22-4815-990b-9edd51d643e3"
      },
      "source": [
        "df_NITS_Final.shape"
      ],
      "execution_count": null,
      "outputs": [
        {
          "output_type": "execute_result",
          "data": {
            "text/plain": [
              "(25404, 14)"
            ]
          },
          "metadata": {},
          "execution_count": 87
        }
      ]
    },
    {
      "cell_type": "code",
      "metadata": {
        "colab": {
          "base_uri": "https://localhost:8080/",
          "height": 397
        },
        "id": "7HHdvygiqGJW",
        "outputId": "6b202129-b237-48ba-c437-5dca41257bd4"
      },
      "source": [
        "df_NITS_Final.head()"
      ],
      "execution_count": null,
      "outputs": [
        {
          "output_type": "execute_result",
          "data": {
            "text/html": [
              "<div>\n",
              "<style scoped>\n",
              "    .dataframe tbody tr th:only-of-type {\n",
              "        vertical-align: middle;\n",
              "    }\n",
              "\n",
              "    .dataframe tbody tr th {\n",
              "        vertical-align: top;\n",
              "    }\n",
              "\n",
              "    .dataframe thead th {\n",
              "        text-align: right;\n",
              "    }\n",
              "</style>\n",
              "<table border=\"1\" class=\"dataframe\">\n",
              "  <thead>\n",
              "    <tr style=\"text-align: right;\">\n",
              "      <th></th>\n",
              "      <th>NIT</th>\n",
              "      <th>RAZON_SOCIAL</th>\n",
              "      <th>CONTEO_A</th>\n",
              "      <th>Len_nit</th>\n",
              "      <th>NIT_Modificado_x</th>\n",
              "      <th>NIT_10</th>\n",
              "      <th>NIT_Modificado_y</th>\n",
              "      <th>Razón Social</th>\n",
              "      <th>Clase Identificación</th>\n",
              "      <th>CONTEO_B</th>\n",
              "      <th>Ultimo Año Renovado</th>\n",
              "      <th>Fecha Matricula</th>\n",
              "      <th>Fecha Renovación</th>\n",
              "      <th>Estado</th>\n",
              "    </tr>\n",
              "  </thead>\n",
              "  <tbody>\n",
              "    <tr>\n",
              "      <th>81</th>\n",
              "      <td>10076651861</td>\n",
              "      <td>ALVAREZ CORREA WILMER DUBAN                   ...</td>\n",
              "      <td>1</td>\n",
              "      <td>11</td>\n",
              "      <td>'10076651861</td>\n",
              "      <td>'100766518</td>\n",
              "      <td>'1007665186</td>\n",
              "      <td>ALVAREZ CORREA WILMER DUBAN</td>\n",
              "      <td>NIT</td>\n",
              "      <td>1.0</td>\n",
              "      <td>2013</td>\n",
              "      <td>20130523</td>\n",
              "      <td>20130523</td>\n",
              "      <td>CANCELADA</td>\n",
              "    </tr>\n",
              "    <tr>\n",
              "      <th>82</th>\n",
              "      <td>10076651861</td>\n",
              "      <td>ALVAREZ CORREA WILMER DUBAN                   ...</td>\n",
              "      <td>1</td>\n",
              "      <td>11</td>\n",
              "      <td>'10076651861</td>\n",
              "      <td>'100766518</td>\n",
              "      <td>'1007665186</td>\n",
              "      <td>ALVAREZ CORREA WILMER DUBAN</td>\n",
              "      <td>NIT</td>\n",
              "      <td>1.0</td>\n",
              "      <td>2019</td>\n",
              "      <td>20170110</td>\n",
              "      <td>20190307</td>\n",
              "      <td>MATRÍCULA CANCELADA POR TRASLADO DE DOMICILIO</td>\n",
              "    </tr>\n",
              "    <tr>\n",
              "      <th>104</th>\n",
              "      <td>10101756101</td>\n",
              "      <td>ALONSO VILLAMIZAR MARIA ALEJANDRA             ...</td>\n",
              "      <td>1</td>\n",
              "      <td>11</td>\n",
              "      <td>'10101756101</td>\n",
              "      <td>'101017561</td>\n",
              "      <td>'1010175614</td>\n",
              "      <td>CASTAÑEDA MALES SANDRA YANETH</td>\n",
              "      <td>NIT</td>\n",
              "      <td>1.0</td>\n",
              "      <td>2019</td>\n",
              "      <td>20170313</td>\n",
              "      <td>20190326</td>\n",
              "      <td>ACTIVA</td>\n",
              "    </tr>\n",
              "    <tr>\n",
              "      <th>116</th>\n",
              "      <td>10101913548</td>\n",
              "      <td>AGUILERA CORREA MARCO ANTONIO                 ...</td>\n",
              "      <td>1</td>\n",
              "      <td>11</td>\n",
              "      <td>'10101913548</td>\n",
              "      <td>'101019135</td>\n",
              "      <td>'1010191357</td>\n",
              "      <td>ESPAÑA LOSADA GILBERTO</td>\n",
              "      <td>NIT</td>\n",
              "      <td>1.0</td>\n",
              "      <td>2016</td>\n",
              "      <td>20140319</td>\n",
              "      <td>20161202</td>\n",
              "      <td>CANCELADA</td>\n",
              "    </tr>\n",
              "    <tr>\n",
              "      <th>118</th>\n",
              "      <td>10101959441</td>\n",
              "      <td>PEDROZA OSPINA CAMILO ALFONSO                 ...</td>\n",
              "      <td>1</td>\n",
              "      <td>11</td>\n",
              "      <td>'10101959441</td>\n",
              "      <td>'101019594</td>\n",
              "      <td>'1010195946</td>\n",
              "      <td>AMEZQUITA OROZCO LIZANDRO</td>\n",
              "      <td>NIT</td>\n",
              "      <td>1.0</td>\n",
              "      <td>2011</td>\n",
              "      <td>20110701</td>\n",
              "      <td></td>\n",
              "      <td>CANCELADA</td>\n",
              "    </tr>\n",
              "  </tbody>\n",
              "</table>\n",
              "</div>"
            ],
            "text/plain": [
              "             NIT  ...                                         Estado\n",
              "81   10076651861  ...                                      CANCELADA\n",
              "82   10076651861  ...  MATRÍCULA CANCELADA POR TRASLADO DE DOMICILIO\n",
              "104  10101756101  ...                                         ACTIVA\n",
              "116  10101913548  ...                                      CANCELADA\n",
              "118  10101959441  ...                                      CANCELADA\n",
              "\n",
              "[5 rows x 14 columns]"
            ]
          },
          "metadata": {},
          "execution_count": 88
        }
      ]
    },
    {
      "cell_type": "code",
      "metadata": {
        "colab": {
          "base_uri": "https://localhost:8080/"
        },
        "id": "hpTMgXfjpkir",
        "outputId": "dc0a197e-1d61-4750-db1c-3aa0ea1c985a"
      },
      "source": [
        "# SUmando las observaciones que obtenemos\n",
        "df_NITS_Final[\"CONTEO_B\"].sum()"
      ],
      "execution_count": null,
      "outputs": [
        {
          "output_type": "execute_result",
          "data": {
            "text/plain": [
              "25404.0"
            ]
          },
          "metadata": {},
          "execution_count": 89
        }
      ]
    },
    {
      "cell_type": "code",
      "metadata": {
        "colab": {
          "base_uri": "https://localhost:8080/"
        },
        "id": "q5MG5ir9uYEA",
        "outputId": "490b4b8a-cf9a-4316-af3b-2bee4c4926a6"
      },
      "source": [
        "df_nits.columns"
      ],
      "execution_count": null,
      "outputs": [
        {
          "output_type": "execute_result",
          "data": {
            "text/plain": [
              "Index(['NIT', 'RAZON_SOCIAL', 'CONTEO_A', 'Len_nit', 'NIT_Modificado',\n",
              "       'NIT_10'],\n",
              "      dtype='object')"
            ]
          },
          "metadata": {},
          "execution_count": 91
        }
      ]
    },
    {
      "cell_type": "code",
      "metadata": {
        "colab": {
          "base_uri": "https://localhost:8080/"
        },
        "id": "OcPeWti2uaYQ",
        "outputId": "46801ee8-a723-4e37-abb8-eadef9a9770c"
      },
      "source": [
        "df.columns"
      ],
      "execution_count": null,
      "outputs": [
        {
          "output_type": "execute_result",
          "data": {
            "text/plain": [
              "Index(['Cód Cámara', 'Matricula', 'Razón Social', 'Clase Identificación',\n",
              "       'Numero de Identificación', 'Digito de Verificación',\n",
              "       'Municipio Comercial', 'Dirección Comercial', 'Tel. Comercial 1',\n",
              "       'Tel. Comercial 2', 'Tel. Comercial 3', 'Correo Electrónico Comercial',\n",
              "       'Municipio Fiscal', 'Dirección Fiscal', 'Tel. Fiscal 1',\n",
              "       'Tel. Fiscal 2', 'Tel. Fiscal 3', 'Correo Electrónico Fiscal',\n",
              "       'Ultimo Año Renovado', 'Fecha Matricula', 'Fecha Renovación', 'Estado',\n",
              "       'Organización Jurídica', 'Categoría Matricula', 'CIIU Principal',\n",
              "       'CIIU Secundario', 'ciiu 3', 'ciiu 4', 'Empleados',\n",
              "       'Num Identificacion Representante Legal', 'Representante Legal',\n",
              "       'Fecha Actualizacion RUES', 'Len_nit', 'CONTEO_B', 'NIT_Modificado',\n",
              "       'NIT_10'],\n",
              "      dtype='object')"
            ]
          },
          "metadata": {},
          "execution_count": 92
        }
      ]
    },
    {
      "cell_type": "markdown",
      "metadata": {
        "id": "mFmvlj1_slPR"
      },
      "source": [
        "Falta hacer una comparación entre los NITS completos.\n",
        "\n",
        "LO que hice fue utilizar excel. Quitar los espacios de la razón social en la base exportaciones y luego comparar con los nombres del RUES. SI(Nombre_EXpo=Nombre_RUES,1,0)"
      ]
    },
    {
      "cell_type": "markdown",
      "metadata": {
        "id": "kJtg5_5F4NNS"
      },
      "source": [
        "# ✅ Exportar base de datos"
      ]
    },
    {
      "cell_type": "code",
      "metadata": {
        "colab": {
          "base_uri": "https://localhost:8080/"
        },
        "id": "0qu-CiHG4CyY",
        "outputId": "f801784b-78de-4cdc-adee-03891ae4b59a"
      },
      "source": [
        "%%time\n",
        "# Toma 1min 27s\n",
        "df_NITS_Final.to_csv( \"df_NITS_Final.csv\" , encoding='utf-8-sig', index = False) \n",
        "df_NITS_Final.to_excel('df_NITS_Final.xlsx')"
      ],
      "execution_count": null,
      "outputs": [
        {
          "output_type": "stream",
          "name": "stdout",
          "text": [
            "CPU times: user 10.5 s, sys: 24.1 ms, total: 10.6 s\n",
            "Wall time: 10.6 s\n"
          ]
        }
      ]
    }
  ]
}